{
 "cells": [
  {
   "cell_type": "code",
   "execution_count": 1,
   "metadata": {},
   "outputs": [],
   "source": [
    "import numpy as np\n",
    "import pandas as pd\n",
    "import scipy as sp\n",
    "import missingno as msno \n",
    "from matplotlib import pyplot as plt\n",
    "from sklearn.linear_model import LinearRegression\n",
    "import os\n",
    "from glob import glob"
   ]
  },
  {
   "cell_type": "code",
   "execution_count": 2,
   "metadata": {},
   "outputs": [],
   "source": [
    "# Data Loading and Preprocessing"
   ]
  },
  {
   "cell_type": "code",
   "execution_count": 3,
   "metadata": {},
   "outputs": [],
   "source": [
    "os.chdir('data')\n",
    "data_file_list = glob('*.csv')"
   ]
  },
  {
   "cell_type": "code",
   "execution_count": 4,
   "metadata": {},
   "outputs": [],
   "source": [
    "ballers_dataframes = []\n",
    "batters_dataframes = []\n",
    "fielders_dataframes = []\n",
    "\n",
    "for file in data_file_list:\n",
    "    df = pd.read_csv(file)\n",
    "    \n",
    "    to_drop = [col_name for col_name in df.columns if 'Unnamed' in col_name]\n",
    "    df.drop(to_drop,axis=1,inplace=True)\n",
    "    \n",
    "    if 'odi' in file.lower():\n",
    "        df['match_type'] = 'odi'\n",
    "    if 'test' in file.lower():\n",
    "        df['match_type'] = 'test'\n",
    "    if 't20' in file.lower():\n",
    "        df['match_type'] = 't20'\n",
    "\n",
    "    # Separate player names and regions\n",
    "    player_names = df['Player'].apply(lambda x:x.split('(')[0].strip().upper().replace(')',''),)\n",
    "    region_names = df['Player'].apply(lambda x:x.split('(')[-1].strip().upper().replace(')',''))\n",
    "    \n",
    "    df['Player'] = player_names\n",
    "    df['Region'] = region_names\n",
    "    \n",
    "    df.drop_duplicates(inplace=True)\n",
    "    \n",
    "    if 'bow' in file.lower():\n",
    "        ballers_dataframes.append(df)\n",
    "    elif 'fielding' in file.lower():\n",
    "        fielders_dataframes.append(df)\n",
    "    else:        \n",
    "        batters_dataframes.append(df)"
   ]
  },
  {
   "cell_type": "code",
   "execution_count": 5,
   "metadata": {},
   "outputs": [
    {
     "name": "stdout",
     "output_type": "stream",
     "text": [
      "Index(['10', '4', '5', 'Ave', 'BBI', 'BBM', 'Balls', 'Econ', 'Inns', 'Mat',\n",
      "       'Mdns', 'Overs', 'Player', 'Region', 'Runs', 'SR', 'Span', 'Wkts',\n",
      "       'match_type'],\n",
      "      dtype='object')\n"
     ]
    },
    {
     "data": {
      "text/html": [
       "<div>\n",
       "<style scoped>\n",
       "    .dataframe tbody tr th:only-of-type {\n",
       "        vertical-align: middle;\n",
       "    }\n",
       "\n",
       "    .dataframe tbody tr th {\n",
       "        vertical-align: top;\n",
       "    }\n",
       "\n",
       "    .dataframe thead th {\n",
       "        text-align: right;\n",
       "    }\n",
       "</style>\n",
       "<table border=\"1\" class=\"dataframe\">\n",
       "  <thead>\n",
       "    <tr style=\"text-align: right;\">\n",
       "      <th></th>\n",
       "      <th>10</th>\n",
       "      <th>4</th>\n",
       "      <th>5</th>\n",
       "      <th>Ave</th>\n",
       "      <th>BBI</th>\n",
       "      <th>BBM</th>\n",
       "      <th>Balls</th>\n",
       "      <th>Econ</th>\n",
       "      <th>Inns</th>\n",
       "      <th>Mat</th>\n",
       "      <th>Mdns</th>\n",
       "      <th>Overs</th>\n",
       "      <th>Player</th>\n",
       "      <th>Region</th>\n",
       "      <th>Runs</th>\n",
       "      <th>SR</th>\n",
       "      <th>Span</th>\n",
       "      <th>Wkts</th>\n",
       "      <th>match_type</th>\n",
       "    </tr>\n",
       "  </thead>\n",
       "  <tbody>\n",
       "    <tr>\n",
       "      <th>0</th>\n",
       "      <td>22.0</td>\n",
       "      <td>NaN</td>\n",
       "      <td>67</td>\n",
       "      <td>22.72</td>\n",
       "      <td>9/51</td>\n",
       "      <td>16/220</td>\n",
       "      <td>44039</td>\n",
       "      <td>2.47</td>\n",
       "      <td>230</td>\n",
       "      <td>133</td>\n",
       "      <td>NaN</td>\n",
       "      <td>NaN</td>\n",
       "      <td>M MURALITHARAN</td>\n",
       "      <td>ICC/SL</td>\n",
       "      <td>18180</td>\n",
       "      <td>55</td>\n",
       "      <td>1992-2010</td>\n",
       "      <td>800</td>\n",
       "      <td>test</td>\n",
       "    </tr>\n",
       "    <tr>\n",
       "      <th>1</th>\n",
       "      <td>10.0</td>\n",
       "      <td>NaN</td>\n",
       "      <td>37</td>\n",
       "      <td>25.41</td>\n",
       "      <td>8/71</td>\n",
       "      <td>12/128</td>\n",
       "      <td>40705</td>\n",
       "      <td>2.65</td>\n",
       "      <td>273</td>\n",
       "      <td>145</td>\n",
       "      <td>NaN</td>\n",
       "      <td>NaN</td>\n",
       "      <td>SK WARNE</td>\n",
       "      <td>AUS</td>\n",
       "      <td>17995</td>\n",
       "      <td>57.4</td>\n",
       "      <td>1992-2007</td>\n",
       "      <td>708</td>\n",
       "      <td>test</td>\n",
       "    </tr>\n",
       "    <tr>\n",
       "      <th>2</th>\n",
       "      <td>8.0</td>\n",
       "      <td>NaN</td>\n",
       "      <td>35</td>\n",
       "      <td>29.65</td>\n",
       "      <td>10/74</td>\n",
       "      <td>14/149</td>\n",
       "      <td>40850</td>\n",
       "      <td>2.69</td>\n",
       "      <td>236</td>\n",
       "      <td>132</td>\n",
       "      <td>NaN</td>\n",
       "      <td>NaN</td>\n",
       "      <td>A KUMBLE</td>\n",
       "      <td>INDIA</td>\n",
       "      <td>18355</td>\n",
       "      <td>65.9</td>\n",
       "      <td>1990-2008</td>\n",
       "      <td>619</td>\n",
       "      <td>test</td>\n",
       "    </tr>\n",
       "    <tr>\n",
       "      <th>3</th>\n",
       "      <td>3.0</td>\n",
       "      <td>NaN</td>\n",
       "      <td>27</td>\n",
       "      <td>27.04</td>\n",
       "      <td>7/42</td>\n",
       "      <td>11/71</td>\n",
       "      <td>32557</td>\n",
       "      <td>2.87</td>\n",
       "      <td>280</td>\n",
       "      <td>150</td>\n",
       "      <td>NaN</td>\n",
       "      <td>NaN</td>\n",
       "      <td>JM ANDERSON</td>\n",
       "      <td>ENG</td>\n",
       "      <td>15607</td>\n",
       "      <td>56.4</td>\n",
       "      <td>2003-2019</td>\n",
       "      <td>577</td>\n",
       "      <td>test</td>\n",
       "    </tr>\n",
       "    <tr>\n",
       "      <th>4</th>\n",
       "      <td>3.0</td>\n",
       "      <td>NaN</td>\n",
       "      <td>29</td>\n",
       "      <td>21.64</td>\n",
       "      <td>8/24</td>\n",
       "      <td>10/27</td>\n",
       "      <td>29248</td>\n",
       "      <td>2.49</td>\n",
       "      <td>243</td>\n",
       "      <td>124</td>\n",
       "      <td>NaN</td>\n",
       "      <td>NaN</td>\n",
       "      <td>GD MCGRATH</td>\n",
       "      <td>AUS</td>\n",
       "      <td>12186</td>\n",
       "      <td>51.9</td>\n",
       "      <td>1993-2007</td>\n",
       "      <td>563</td>\n",
       "      <td>test</td>\n",
       "    </tr>\n",
       "  </tbody>\n",
       "</table>\n",
       "</div>"
      ],
      "text/plain": [
       "     10    4   5    Ave    BBI     BBM  Balls  Econ Inns  Mat Mdns Overs  \\\n",
       "0  22.0  NaN  67  22.72   9/51  16/220  44039  2.47  230  133  NaN   NaN   \n",
       "1  10.0  NaN  37  25.41   8/71  12/128  40705  2.65  273  145  NaN   NaN   \n",
       "2   8.0  NaN  35  29.65  10/74  14/149  40850  2.69  236  132  NaN   NaN   \n",
       "3   3.0  NaN  27  27.04   7/42   11/71  32557  2.87  280  150  NaN   NaN   \n",
       "4   3.0  NaN  29  21.64   8/24   10/27  29248  2.49  243  124  NaN   NaN   \n",
       "\n",
       "           Player  Region   Runs    SR       Span Wkts match_type  \n",
       "0  M MURALITHARAN  ICC/SL  18180    55  1992-2010  800       test  \n",
       "1        SK WARNE     AUS  17995  57.4  1992-2007  708       test  \n",
       "2        A KUMBLE   INDIA  18355  65.9  1990-2008  619       test  \n",
       "3     JM ANDERSON     ENG  15607  56.4  2003-2019  577       test  \n",
       "4      GD MCGRATH     AUS  12186  51.9  1993-2007  563       test  "
      ]
     },
     "execution_count": 5,
     "metadata": {},
     "output_type": "execute_result"
    }
   ],
   "source": [
    "ballers_data = pd.concat(ballers_dataframes,sort=True)\n",
    "print(ballers_data.columns)\n",
    "ballers_data.head()"
   ]
  },
  {
   "cell_type": "code",
   "execution_count": 6,
   "metadata": {},
   "outputs": [
    {
     "name": "stdout",
     "output_type": "stream",
     "text": [
      "Index(['0', '100', '4s', '50', '6s', 'Ave', 'BF', 'HS', 'Inns', 'Mat', 'NO',\n",
      "       'Player', 'Region', 'Runs', 'SR', 'Span', 'match_type'],\n",
      "      dtype='object')\n"
     ]
    },
    {
     "data": {
      "text/html": [
       "<div>\n",
       "<style scoped>\n",
       "    .dataframe tbody tr th:only-of-type {\n",
       "        vertical-align: middle;\n",
       "    }\n",
       "\n",
       "    .dataframe tbody tr th {\n",
       "        vertical-align: top;\n",
       "    }\n",
       "\n",
       "    .dataframe thead th {\n",
       "        text-align: right;\n",
       "    }\n",
       "</style>\n",
       "<table border=\"1\" class=\"dataframe\">\n",
       "  <thead>\n",
       "    <tr style=\"text-align: right;\">\n",
       "      <th></th>\n",
       "      <th>0</th>\n",
       "      <th>100</th>\n",
       "      <th>4s</th>\n",
       "      <th>50</th>\n",
       "      <th>6s</th>\n",
       "      <th>Ave</th>\n",
       "      <th>BF</th>\n",
       "      <th>HS</th>\n",
       "      <th>Inns</th>\n",
       "      <th>Mat</th>\n",
       "      <th>NO</th>\n",
       "      <th>Player</th>\n",
       "      <th>Region</th>\n",
       "      <th>Runs</th>\n",
       "      <th>SR</th>\n",
       "      <th>Span</th>\n",
       "      <th>match_type</th>\n",
       "    </tr>\n",
       "  </thead>\n",
       "  <tbody>\n",
       "    <tr>\n",
       "      <th>0</th>\n",
       "      <td>20</td>\n",
       "      <td>49</td>\n",
       "      <td>NaN</td>\n",
       "      <td>96</td>\n",
       "      <td>NaN</td>\n",
       "      <td>44.83</td>\n",
       "      <td>21367</td>\n",
       "      <td>200*</td>\n",
       "      <td>452</td>\n",
       "      <td>463</td>\n",
       "      <td>41</td>\n",
       "      <td>SR TENDULKAR</td>\n",
       "      <td>INDIA</td>\n",
       "      <td>18426</td>\n",
       "      <td>86.23</td>\n",
       "      <td>1989-2012</td>\n",
       "      <td>odi</td>\n",
       "    </tr>\n",
       "    <tr>\n",
       "      <th>1</th>\n",
       "      <td>15</td>\n",
       "      <td>25</td>\n",
       "      <td>NaN</td>\n",
       "      <td>93</td>\n",
       "      <td>NaN</td>\n",
       "      <td>41.98</td>\n",
       "      <td>18048</td>\n",
       "      <td>169</td>\n",
       "      <td>380</td>\n",
       "      <td>404</td>\n",
       "      <td>41</td>\n",
       "      <td>KC SANGAKKARA</td>\n",
       "      <td>ASIA/ICC/SL</td>\n",
       "      <td>14234</td>\n",
       "      <td>78.86</td>\n",
       "      <td>2000-2015</td>\n",
       "      <td>odi</td>\n",
       "    </tr>\n",
       "    <tr>\n",
       "      <th>2</th>\n",
       "      <td>20</td>\n",
       "      <td>30</td>\n",
       "      <td>NaN</td>\n",
       "      <td>82</td>\n",
       "      <td>NaN</td>\n",
       "      <td>42.03</td>\n",
       "      <td>17046</td>\n",
       "      <td>164</td>\n",
       "      <td>365</td>\n",
       "      <td>375</td>\n",
       "      <td>39</td>\n",
       "      <td>RT PONTING</td>\n",
       "      <td>AUS/ICC</td>\n",
       "      <td>13704</td>\n",
       "      <td>80.39</td>\n",
       "      <td>1995-2012</td>\n",
       "      <td>odi</td>\n",
       "    </tr>\n",
       "    <tr>\n",
       "      <th>3</th>\n",
       "      <td>34</td>\n",
       "      <td>28</td>\n",
       "      <td>NaN</td>\n",
       "      <td>68</td>\n",
       "      <td>NaN</td>\n",
       "      <td>32.36</td>\n",
       "      <td>14725</td>\n",
       "      <td>189</td>\n",
       "      <td>433</td>\n",
       "      <td>445</td>\n",
       "      <td>18</td>\n",
       "      <td>ST JAYASURIYA</td>\n",
       "      <td>ASIA/SL</td>\n",
       "      <td>13430</td>\n",
       "      <td>91.2</td>\n",
       "      <td>1989-2011</td>\n",
       "      <td>odi</td>\n",
       "    </tr>\n",
       "    <tr>\n",
       "      <th>4</th>\n",
       "      <td>28</td>\n",
       "      <td>19</td>\n",
       "      <td>NaN</td>\n",
       "      <td>77</td>\n",
       "      <td>NaN</td>\n",
       "      <td>33.37</td>\n",
       "      <td>16020</td>\n",
       "      <td>144</td>\n",
       "      <td>418</td>\n",
       "      <td>448</td>\n",
       "      <td>39</td>\n",
       "      <td>DPMD JAYAWARDENE</td>\n",
       "      <td>ASIA/SL</td>\n",
       "      <td>12650</td>\n",
       "      <td>78.96</td>\n",
       "      <td>1998-2015</td>\n",
       "      <td>odi</td>\n",
       "    </tr>\n",
       "  </tbody>\n",
       "</table>\n",
       "</div>"
      ],
      "text/plain": [
       "    0 100   4s  50   6s    Ave     BF    HS Inns  Mat  NO            Player  \\\n",
       "0  20  49  NaN  96  NaN  44.83  21367  200*  452  463  41      SR TENDULKAR   \n",
       "1  15  25  NaN  93  NaN  41.98  18048   169  380  404  41     KC SANGAKKARA   \n",
       "2  20  30  NaN  82  NaN  42.03  17046   164  365  375  39        RT PONTING   \n",
       "3  34  28  NaN  68  NaN  32.36  14725   189  433  445  18     ST JAYASURIYA   \n",
       "4  28  19  NaN  77  NaN  33.37  16020   144  418  448  39  DPMD JAYAWARDENE   \n",
       "\n",
       "        Region   Runs     SR       Span match_type  \n",
       "0        INDIA  18426  86.23  1989-2012        odi  \n",
       "1  ASIA/ICC/SL  14234  78.86  2000-2015        odi  \n",
       "2      AUS/ICC  13704  80.39  1995-2012        odi  \n",
       "3      ASIA/SL  13430   91.2  1989-2011        odi  \n",
       "4      ASIA/SL  12650  78.96  1998-2015        odi  "
      ]
     },
     "execution_count": 6,
     "metadata": {},
     "output_type": "execute_result"
    }
   ],
   "source": [
    "batters_data = pd.concat(batters_dataframes,sort=True)\n",
    "print(batters_data.columns)\n",
    "batters_data.head()"
   ]
  },
  {
   "cell_type": "code",
   "execution_count": 7,
   "metadata": {},
   "outputs": [
    {
     "name": "stdout",
     "output_type": "stream",
     "text": [
      "Index(['Ct', 'Ct Fi', 'Ct Wk', 'D/I', 'Dis', 'Inns', 'MD', 'Mat', 'Player',\n",
      "       'Region', 'Span', 'St', 'match_type'],\n",
      "      dtype='object')\n"
     ]
    },
    {
     "data": {
      "text/html": [
       "<div>\n",
       "<style scoped>\n",
       "    .dataframe tbody tr th:only-of-type {\n",
       "        vertical-align: middle;\n",
       "    }\n",
       "\n",
       "    .dataframe tbody tr th {\n",
       "        vertical-align: top;\n",
       "    }\n",
       "\n",
       "    .dataframe thead th {\n",
       "        text-align: right;\n",
       "    }\n",
       "</style>\n",
       "<table border=\"1\" class=\"dataframe\">\n",
       "  <thead>\n",
       "    <tr style=\"text-align: right;\">\n",
       "      <th></th>\n",
       "      <th>Ct</th>\n",
       "      <th>Ct Fi</th>\n",
       "      <th>Ct Wk</th>\n",
       "      <th>D/I</th>\n",
       "      <th>Dis</th>\n",
       "      <th>Inns</th>\n",
       "      <th>MD</th>\n",
       "      <th>Mat</th>\n",
       "      <th>Player</th>\n",
       "      <th>Region</th>\n",
       "      <th>Span</th>\n",
       "      <th>St</th>\n",
       "      <th>match_type</th>\n",
       "    </tr>\n",
       "  </thead>\n",
       "  <tbody>\n",
       "    <tr>\n",
       "      <th>0</th>\n",
       "      <td>402</td>\n",
       "      <td>19</td>\n",
       "      <td>383</td>\n",
       "      <td>1.261</td>\n",
       "      <td>501</td>\n",
       "      <td>397</td>\n",
       "      <td>5 (4ct 1st)</td>\n",
       "      <td>404</td>\n",
       "      <td>KC SANGAKKARA</td>\n",
       "      <td>ASIA/ICC/SL</td>\n",
       "      <td>2000-2015</td>\n",
       "      <td>99</td>\n",
       "      <td>odi</td>\n",
       "    </tr>\n",
       "    <tr>\n",
       "      <th>1</th>\n",
       "      <td>417</td>\n",
       "      <td>0</td>\n",
       "      <td>417</td>\n",
       "      <td>1.65</td>\n",
       "      <td>472</td>\n",
       "      <td>286</td>\n",
       "      <td>6 (6ct 0st)</td>\n",
       "      <td>287</td>\n",
       "      <td>AC GILCHRIST</td>\n",
       "      <td>AUS/ICC</td>\n",
       "      <td>1996-2008</td>\n",
       "      <td>55</td>\n",
       "      <td>odi</td>\n",
       "    </tr>\n",
       "    <tr>\n",
       "      <th>2</th>\n",
       "      <td>321</td>\n",
       "      <td>0</td>\n",
       "      <td>321</td>\n",
       "      <td>1.286</td>\n",
       "      <td>444</td>\n",
       "      <td>345</td>\n",
       "      <td>6 (5ct 1st)</td>\n",
       "      <td>350</td>\n",
       "      <td>MS DHONI</td>\n",
       "      <td>ASIA/INDIA</td>\n",
       "      <td>2004-2019</td>\n",
       "      <td>123</td>\n",
       "      <td>odi</td>\n",
       "    </tr>\n",
       "    <tr>\n",
       "      <th>3</th>\n",
       "      <td>403</td>\n",
       "      <td>1</td>\n",
       "      <td>402</td>\n",
       "      <td>1.46</td>\n",
       "      <td>425</td>\n",
       "      <td>291</td>\n",
       "      <td>6 (6ct 0st)</td>\n",
       "      <td>295</td>\n",
       "      <td>MV BOUCHER</td>\n",
       "      <td>AFR/SA</td>\n",
       "      <td>1998-2011</td>\n",
       "      <td>22</td>\n",
       "      <td>odi</td>\n",
       "    </tr>\n",
       "    <tr>\n",
       "      <th>4</th>\n",
       "      <td>214</td>\n",
       "      <td>0</td>\n",
       "      <td>214</td>\n",
       "      <td>1.322</td>\n",
       "      <td>287</td>\n",
       "      <td>217</td>\n",
       "      <td>5 (5ct 0st)</td>\n",
       "      <td>219</td>\n",
       "      <td>MOIN KHAN</td>\n",
       "      <td>PAK</td>\n",
       "      <td>1990-2004</td>\n",
       "      <td>73</td>\n",
       "      <td>odi</td>\n",
       "    </tr>\n",
       "  </tbody>\n",
       "</table>\n",
       "</div>"
      ],
      "text/plain": [
       "    Ct Ct Fi Ct Wk    D/I  Dis Inns           MD  Mat         Player  \\\n",
       "0  402    19   383  1.261  501  397  5 (4ct 1st)  404  KC SANGAKKARA   \n",
       "1  417     0   417   1.65  472  286  6 (6ct 0st)  287   AC GILCHRIST   \n",
       "2  321     0   321  1.286  444  345  6 (5ct 1st)  350       MS DHONI   \n",
       "3  403     1   402   1.46  425  291  6 (6ct 0st)  295     MV BOUCHER   \n",
       "4  214     0   214  1.322  287  217  5 (5ct 0st)  219      MOIN KHAN   \n",
       "\n",
       "        Region       Span   St match_type  \n",
       "0  ASIA/ICC/SL  2000-2015   99        odi  \n",
       "1      AUS/ICC  1996-2008   55        odi  \n",
       "2   ASIA/INDIA  2004-2019  123        odi  \n",
       "3       AFR/SA  1998-2011   22        odi  \n",
       "4          PAK  1990-2004   73        odi  "
      ]
     },
     "execution_count": 7,
     "metadata": {},
     "output_type": "execute_result"
    }
   ],
   "source": [
    "fielders_data = pd.concat(fielders_dataframes,sort=True)\n",
    "print(fielders_data.columns)\n",
    "fielders_data.head()"
   ]
  },
  {
   "cell_type": "code",
   "execution_count": 8,
   "metadata": {},
   "outputs": [
    {
     "data": {
      "text/plain": [
       "{'AFG/GER',\n",
       " 'AFG/ICC',\n",
       " 'AFR/ICC/SA',\n",
       " 'AFR/KENYA',\n",
       " 'AFR/SA',\n",
       " 'AFR/ZIM',\n",
       " 'ASIA/BDESH',\n",
       " 'ASIA/ICC/INDIA',\n",
       " 'ASIA/ICC/PAK',\n",
       " 'ASIA/ICC/SL',\n",
       " 'ASIA/INDIA',\n",
       " 'ASIA/PAK',\n",
       " 'ASIA/SL',\n",
       " 'AUS/ENG',\n",
       " 'AUS/ICC',\n",
       " 'AUS/ICC/NZ',\n",
       " 'AUS/NL',\n",
       " 'AUS/NZ',\n",
       " 'AUS/SA',\n",
       " 'AUS/WORLD',\n",
       " 'BDESH/ICC/WORLD',\n",
       " 'CAN/WI',\n",
       " 'ENG/ICC',\n",
       " 'ENG/INDIA',\n",
       " 'ENG/IRE',\n",
       " 'ENG/PNG',\n",
       " 'ENG/SA',\n",
       " 'ENG/SCOT',\n",
       " 'ENG/WORLD',\n",
       " 'HKG/NZ',\n",
       " 'ICC/INDIA',\n",
       " 'ICC/NEPAL',\n",
       " 'ICC/NZ',\n",
       " 'ICC/PAK',\n",
       " 'ICC/SA',\n",
       " 'ICC/SL',\n",
       " 'ICC/SL/WORLD',\n",
       " 'ICC/WI',\n",
       " 'INDIA/PAK',\n",
       " 'NL/SA',\n",
       " 'NZ/WI',\n",
       " 'NZ/WORLD',\n",
       " 'SA/USA',\n",
       " 'SA/WORLD',\n",
       " 'SA/ZIM',\n",
       " 'USA/WI',\n",
       " 'WI/WORLD'}"
      ]
     },
     "execution_count": 8,
     "metadata": {},
     "output_type": "execute_result"
    }
   ],
   "source": [
    "erroneous_regions = set()\n",
    "[erroneous_regions.add(regions) for regions in fielders_data[fielders_data.Region.str.contains('/')].Region.unique()]\n",
    "[erroneous_regions.add(regions) for regions in batters_data[batters_data.Region.str.contains('/')].Region.unique()]\n",
    "[erroneous_regions.add(regions) for regions in ballers_data[ballers_data.Region.str.contains('/')].Region.unique()]\n",
    "erroneous_regions"
   ]
  },
  {
   "cell_type": "code",
   "execution_count": 9,
   "metadata": {},
   "outputs": [],
   "source": [
    "replacements = {'AFG/GER' : 'AFG/GER',\n",
    " 'AFG/ICC' : 'AFG',\n",
    " 'AFR/ICC/SA' : 'SA',\n",
    " 'AFR/KENYA' : 'KENYA',\n",
    " 'AFR/SA' : 'SA',\n",
    " 'AFR/ZIM' : 'ZIM',\n",
    " 'ASIA/BDESH' : 'BDESH',\n",
    " 'ASIA/ICC/INDIA' : 'INDIA',\n",
    " 'ASIA/ICC/PAK' : 'PAK',\n",
    " 'ASIA/ICC/SL' : 'SL',\n",
    " 'ASIA/INDIA' : 'INDIA',\n",
    " 'ASIA/PAK' : 'PAK',\n",
    " 'ASIA/SL' : 'SL',\n",
    " 'AUS/ENG' : 'AUS/ENG' ,\n",
    " 'AUS/ICC' : 'AUS',\n",
    " 'AUS/ICC/NZ' : 'AUS/NZ',\n",
    " 'AUS/NL' : 'AUS/NL',\n",
    " 'AUS/NZ' : 'AUS/NZ',\n",
    " 'AUS/SA' : 'AUS/SA',\n",
    " 'AUS/WORLD' : 'AUS',\n",
    " 'BDESH/ICC/WORLD' : 'BDESH',\n",
    " 'CAN/WI' : 'CAN/WI',\n",
    " 'ENG/ICC' : 'ENG',\n",
    " 'ENG/INDIA' : 'ENG/INDIA',\n",
    " 'ENG/IRE' : 'ENG/IRE',\n",
    " 'ENG/PNG' : 'ENG/PNG',\n",
    " 'ENG/SA' : 'ENG/SA',\n",
    " 'ENG/SCOT' : 'ENG/SCOT',\n",
    " 'ENG/WORLD' : 'ENG',\n",
    " 'HKG/NZ' : 'HKG/NZ',\n",
    " 'ICC/INDIA' : 'INDIA',\n",
    " 'ICC/NEPAL' : 'NEPAL',\n",
    " 'ICC/NZ' : 'NZ',\n",
    " 'ICC/PAK' : 'PAK',\n",
    " 'ICC/SA' : 'SA',\n",
    " 'ICC/SL' : 'SL',\n",
    " 'ICC/SL/WORLD' : 'SL',\n",
    " 'ICC/WI' : 'WI',\n",
    " 'INDIA/PAK' : 'INDIA/PAK',\n",
    " 'NL/SA' : 'NL/SA',\n",
    " 'NZ/WI' : 'NZ/WI',\n",
    " 'NZ/WORLD' : 'NZ',\n",
    " 'SA/USA' : 'SA/USA',\n",
    " 'SA/WORLD' : 'SA',\n",
    " 'SA/ZIM' : 'SA/ZIM',\n",
    " 'USA/WI' : 'USA/WI',\n",
    " 'WI/WORLD' : 'WI'}"
   ]
  },
  {
   "cell_type": "code",
   "execution_count": 10,
   "metadata": {},
   "outputs": [],
   "source": [
    "fielders_data.Region = fielders_data.Region.replace(replacements)\n",
    "batters_data.Region = batters_data.Region.replace(replacements)\n",
    "ballers_data.Region = ballers_data.Region.replace(replacements)"
   ]
  },
  {
   "cell_type": "code",
   "execution_count": 11,
   "metadata": {},
   "outputs": [],
   "source": [
    "#Exploratory Data Analysis"
   ]
  },
  {
   "cell_type": "code",
   "execution_count": 12,
   "metadata": {},
   "outputs": [
    {
     "data": {
      "image/png": "[encoded data removed]",
      "text/plain": [
       "<Figure size 1728x720 with 3 Axes>"
      ]
     },
     "metadata": {
      "needs_background": "light"
     },
     "output_type": "display_data"
    }
   ],
   "source": [
    "msno.bar(fielders_data);"
   ]
  },
  {
   "cell_type": "code",
   "execution_count": 13,
   "metadata": {},
   "outputs": [
    {
     "data": {
      "image/png": "[encoded data removed]",
      "text/plain": [
       "<Figure size 1728x720 with 3 Axes>"
      ]
     },
     "metadata": {
      "needs_background": "light"
     },
     "output_type": "display_data"
    }
   ],
   "source": [
    "msno.bar(batters_data);"
   ]
  },
  {
   "cell_type": "code",
   "execution_count": 14,
   "metadata": {},
   "outputs": [],
   "source": [
    "batters_data['4s'] = batters_data['4s'].fillna(0)\n",
    "batters_data['6s'] = batters_data['6s'].fillna(0)\n",
    "batters_data['BF'] = batters_data['BF'].fillna(0)\n",
    "batters_data['SR'] = batters_data['SR'].fillna(0)"
   ]
  },
  {
   "cell_type": "code",
   "execution_count": 15,
   "metadata": {},
   "outputs": [
    {
     "data": {
      "image/png": "[encoded data removed]",
      "text/plain": [
       "<Figure size 1728x720 with 3 Axes>"
      ]
     },
     "metadata": {
      "needs_background": "light"
     },
     "output_type": "display_data"
    }
   ],
   "source": [
    "msno.bar(batters_data);"
   ]
  },
  {
   "cell_type": "code",
   "execution_count": 16,
   "metadata": {},
   "outputs": [
    {
     "data": {
      "image/png": "[encoded data removed]",
      "text/plain": [
       "<Figure size 1728x720 with 3 Axes>"
      ]
     },
     "metadata": {
      "needs_background": "light"
     },
     "output_type": "display_data"
    }
   ],
   "source": [
    "msno.bar(ballers_data);"
   ]
  },
  {
   "cell_type": "code",
   "execution_count": 17,
   "metadata": {},
   "outputs": [],
   "source": [
    "ballers_data['10'] = ballers_data['10'].fillna(0)\n",
    "ballers_data['4'] = ballers_data['4'].fillna(0)\n",
    "ballers_data['BBM'] = ballers_data['BBM'].fillna(0)\n",
    "ballers_data['Balls'] = ballers_data['Balls'].fillna(0)\n",
    "ballers_data['Mdns'] = ballers_data['Mdns'].fillna(0)\n",
    "ballers_data['Overs'] = ballers_data['Overs'].fillna(0)"
   ]
  },
  {
   "cell_type": "code",
   "execution_count": 18,
   "metadata": {},
   "outputs": [
    {
     "data": {
      "image/png": "[encoded data removed]",
      "text/plain": [
       "<Figure size 1728x720 with 3 Axes>"
      ]
     },
     "metadata": {
      "needs_background": "light"
     },
     "output_type": "display_data"
    }
   ],
   "source": [
    "msno.bar(ballers_data);"
   ]
  },
  {
   "cell_type": "code",
   "execution_count": 19,
   "metadata": {},
   "outputs": [
    {
     "data": {
      "text/plain": [
       "Ct            object\n",
       "Ct Fi         object\n",
       "Ct Wk         object\n",
       "D/I           object\n",
       "Dis           object\n",
       "Inns          object\n",
       "MD            object\n",
       "Mat            int64\n",
       "Player        object\n",
       "Region        object\n",
       "Span          object\n",
       "St            object\n",
       "match_type    object\n",
       "dtype: object"
      ]
     },
     "execution_count": 19,
     "metadata": {},
     "output_type": "execute_result"
    }
   ],
   "source": [
    "fielders_data.dtypes"
   ]
  },
  {
   "cell_type": "code",
   "execution_count": 20,
   "metadata": {},
   "outputs": [],
   "source": [
    "fielders_data.Ct = fielders_data.Ct.apply(lambda x: int(x) if x != '-' else 0)\n",
    "fielders_data['Ct Fi'] = fielders_data['Ct Fi'].apply(lambda x: int(x) if x != '-' else 0)\n",
    "fielders_data['Ct Wk'] = fielders_data['Ct Wk'].apply(lambda x: int(x) if x != '-' else 0)\n",
    "fielders_data['D/I'] = fielders_data['D/I'].apply(lambda x: float(x) if x != '-' else 0)\n",
    "fielders_data['Dis'] = fielders_data['Dis'].apply(lambda x: int(x) if x != '-' else 0)\n",
    "fielders_data['Inns'] = fielders_data['Inns'].apply(lambda x: int(x) if x != '-' else 0)\n",
    "fielders_data['St'] = fielders_data['St'].apply(lambda x: int(x) if x != '-' else 0)"
   ]
  },
  {
   "cell_type": "code",
   "execution_count": 21,
   "metadata": {},
   "outputs": [
    {
     "data": {
      "text/plain": [
       "Ct              int64\n",
       "Ct Fi           int64\n",
       "Ct Wk           int64\n",
       "D/I           float64\n",
       "Dis             int64\n",
       "Inns            int64\n",
       "MD             object\n",
       "Mat             int64\n",
       "Player         object\n",
       "Region         object\n",
       "Span           object\n",
       "St              int64\n",
       "match_type     object\n",
       "dtype: object"
      ]
     },
     "execution_count": 21,
     "metadata": {},
     "output_type": "execute_result"
    }
   ],
   "source": [
    " fielders_data.dtypes"
   ]
  },
  {
   "cell_type": "code",
   "execution_count": 22,
   "metadata": {},
   "outputs": [
    {
     "data": {
      "text/plain": [
       "10            float64\n",
       "4              object\n",
       "5              object\n",
       "Ave            object\n",
       "BBI            object\n",
       "BBM            object\n",
       "Balls          object\n",
       "Econ           object\n",
       "Inns           object\n",
       "Mat             int64\n",
       "Mdns           object\n",
       "Overs          object\n",
       "Player         object\n",
       "Region         object\n",
       "Runs           object\n",
       "SR             object\n",
       "Span           object\n",
       "Wkts           object\n",
       "match_type     object\n",
       "dtype: object"
      ]
     },
     "execution_count": 22,
     "metadata": {},
     "output_type": "execute_result"
    }
   ],
   "source": [
    "ballers_data.dtypes"
   ]
  },
  {
   "cell_type": "code",
   "execution_count": 23,
   "metadata": {},
   "outputs": [],
   "source": [
    "ballers_data['4'] = ballers_data['4'].apply(lambda x: int(x) if x != '-' else 0)\n",
    "ballers_data['5'] = ballers_data['5'].apply(lambda x: int(x) if x != '-' else 0)\n",
    "ballers_data['Ave'] = ballers_data['Ave'].apply(lambda x: float(x) if x != '-' else 0)\n",
    "ballers_data['Balls'] = ballers_data['Balls'].apply(lambda x: int(x) if x != '-' else 0)\n",
    "ballers_data['Mdns'] = ballers_data['Mdns'].apply(lambda x: int(x) if x != '-' else 0)\n",
    "ballers_data['Overs'] = ballers_data['Overs'].apply(lambda x: float(x) if x != '-' else 0)\n",
    "ballers_data['Runs'] = ballers_data['Runs'].apply(lambda x: int(x) if x != '-' else 0)\n",
    "ballers_data['SR'] = ballers_data['SR'].apply(lambda x: float(x) if x != '-' else 0)\n",
    "ballers_data['Wkts'] = ballers_data['Wkts'].apply(lambda x: int(x) if x != '-' else 0)"
   ]
  },
  {
   "cell_type": "code",
   "execution_count": 24,
   "metadata": {},
   "outputs": [
    {
     "data": {
      "text/plain": [
       "10            float64\n",
       "4               int64\n",
       "5               int64\n",
       "Ave           float64\n",
       "BBI            object\n",
       "BBM            object\n",
       "Balls           int64\n",
       "Econ           object\n",
       "Inns           object\n",
       "Mat             int64\n",
       "Mdns            int64\n",
       "Overs         float64\n",
       "Player         object\n",
       "Region         object\n",
       "Runs            int64\n",
       "SR            float64\n",
       "Span           object\n",
       "Wkts            int64\n",
       "match_type     object\n",
       "dtype: object"
      ]
     },
     "execution_count": 24,
     "metadata": {},
     "output_type": "execute_result"
    }
   ],
   "source": [
    "ballers_data.dtypes"
   ]
  },
  {
   "cell_type": "code",
   "execution_count": 25,
   "metadata": {},
   "outputs": [
    {
     "data": {
      "text/plain": [
       "0             object\n",
       "100           object\n",
       "4s            object\n",
       "50            object\n",
       "6s            object\n",
       "Ave           object\n",
       "BF            object\n",
       "HS            object\n",
       "Inns          object\n",
       "Mat            int64\n",
       "NO            object\n",
       "Player        object\n",
       "Region        object\n",
       "Runs          object\n",
       "SR            object\n",
       "Span          object\n",
       "match_type    object\n",
       "dtype: object"
      ]
     },
     "execution_count": 25,
     "metadata": {},
     "output_type": "execute_result"
    }
   ],
   "source": [
    "batters_data.dtypes"
   ]
  },
  {
   "cell_type": "code",
   "execution_count": 26,
   "metadata": {
    "scrolled": true
   },
   "outputs": [],
   "source": [
    "batters_data['0'] = batters_data['0'].apply(lambda x: int(x) if x != '-' else 0)\n",
    "batters_data['100'] = batters_data['100'].apply(lambda x: int(x) if x != '-' else 0)\n",
    "batters_data['4s'] = batters_data['4s'].apply(lambda x: int(x) if x != '-' else 0)\n",
    "batters_data['50'] = batters_data['50'].apply(lambda x: int(x) if x != '-' else 0)\n",
    "batters_data['6s'] = batters_data['6s'].apply(lambda x: int(x) if x != '-' else 0)\n",
    "batters_data['Ave'] = batters_data['Ave'].apply(lambda x: float(x) if x != '-' else 0)\n",
    "batters_data['BF'] = batters_data['BF'].apply(lambda x: int(x) if x != '-' else 0)\n",
    "batters_data['HS'] = batters_data['HS'].apply(lambda x: int(x.replace('*','')) if x != '-' else 0)\n",
    "batters_data['Inns'] = batters_data['Inns'].apply(lambda x: int(x) if x != '-' else 0)\n",
    "batters_data['NO'] = batters_data['NO'].apply(lambda x: int(x) if x != '-' else 0)\n",
    "batters_data['Runs'] = batters_data['Runs'].apply(lambda x: int(x) if x != '-' else 0)\n",
    "batters_data['SR'] = batters_data['SR'].apply(lambda x: float(x) if x != '-' else 0)"
   ]
  },
  {
   "cell_type": "code",
   "execution_count": 27,
   "metadata": {},
   "outputs": [
    {
     "data": {
      "text/plain": [
       "0               int64\n",
       "100             int64\n",
       "4s              int64\n",
       "50              int64\n",
       "6s              int64\n",
       "Ave           float64\n",
       "BF              int64\n",
       "HS              int64\n",
       "Inns            int64\n",
       "Mat             int64\n",
       "NO              int64\n",
       "Player         object\n",
       "Region         object\n",
       "Runs            int64\n",
       "SR            float64\n",
       "Span           object\n",
       "match_type     object\n",
       "dtype: object"
      ]
     },
     "execution_count": 27,
     "metadata": {},
     "output_type": "execute_result"
    }
   ],
   "source": [
    "batters_data.dtypes"
   ]
  },
  {
   "cell_type": "code",
   "execution_count": 28,
   "metadata": {},
   "outputs": [
    {
     "name": "stdout",
     "output_type": "stream",
     "text": [
      "---------\n",
      "Skewness:\n",
      "---------\n",
      " Ct        6.467235\n",
      "Ct Fi     5.291784\n",
      "Ct Wk    10.361803\n",
      "D/I       2.176924\n",
      "Dis       6.774431\n",
      "Inns      3.811255\n",
      "Mat       6.046093\n",
      "St       14.231075\n",
      "dtype: float64 \n",
      "---------\n",
      "Kurtosis:\n",
      "---------\n",
      " Ct        59.688591\n",
      "Ct Fi     35.952302\n",
      "Ct Wk    134.809802\n",
      "D/I        6.910681\n",
      "Dis       65.115643\n",
      "Inns      19.201323\n",
      "Mat       53.902892\n",
      "St       289.202824\n",
      "dtype: float64\n"
     ]
    }
   ],
   "source": [
    "print('---------\\nSkewness:\\n---------\\n',fielders_data.skew(),'\\n---------\\nKurtosis:\\n---------\\n',fielders_data.kurtosis())"
   ]
  },
  {
   "cell_type": "code",
   "execution_count": 29,
   "metadata": {},
   "outputs": [
    {
     "data": {
      "image/png": "[encoded data removed]",
      "text/plain": [
       "<Figure size 432x288 with 8 Axes>"
      ]
     },
     "metadata": {
      "needs_background": "light"
     },
     "output_type": "display_data"
    }
   ],
   "source": [
    "ax = plt.subplot(2,4,1)\n",
    "ax.hist(fielders_data.Ct,bins=20);\n",
    "ax.set_title('Ct')\n",
    "\n",
    "ax = plt.subplot(2,4,2)\n",
    "ax.hist(fielders_data['Ct Fi'],bins=20);\n",
    "ax.set_title('Ct')\n",
    "\n",
    "ax = plt.subplot(2,4,3)\n",
    "ax.hist(fielders_data['Ct Wk'],bins=20);\n",
    "ax.set_title('Ct Wk')\n",
    "\n",
    "ax = plt.subplot(2,4,4)\n",
    "ax.hist(fielders_data['D/I'],bins=20);\n",
    "ax.set_title('D/I')\n",
    "\n",
    "ax = plt.subplot(2,4,5)\n",
    "ax.hist(fielders_data['Dis'],bins=20);\n",
    "ax.set_title('Dis')\n",
    "\n",
    "ax = plt.subplot(2,4,6)\n",
    "ax.hist(fielders_data['Inns'],bins=20);\n",
    "ax.set_title('Inns')\n",
    "\n",
    "ax = plt.subplot(2,4,7)\n",
    "ax.hist(fielders_data['Mat'],bins=20);\n",
    "ax.set_title('Mat')\n",
    "\n",
    "ax = plt.subplot(2,4,8)\n",
    "ax.hist(fielders_data['St'],bins=20);\n",
    "ax.set_title('St')\n",
    "\n",
    "plt.tight_layout()"
   ]
  },
  {
   "cell_type": "code",
   "execution_count": 30,
   "metadata": {},
   "outputs": [
    {
     "name": "stdout",
     "output_type": "stream",
     "text": [
      "---------\n",
      "Skewness:\n",
      "---------\n",
      " 10       23.917904\n",
      "4         6.079559\n",
      "5        13.153398\n",
      "Ave       2.058950\n",
      "Balls     7.575813\n",
      "Mat       3.784603\n",
      "Mdns      6.110074\n",
      "Overs     5.367910\n",
      "Runs      5.381310\n",
      "SR        1.847024\n",
      "Wkts      6.050648\n",
      "dtype: float64 \n",
      "---------\n",
      "Kurtosis:\n",
      "---------\n",
      " 10       793.191256\n",
      "4         49.752745\n",
      "5        235.388463\n",
      "Ave        8.777856\n",
      "Balls     73.966025\n",
      "Mat       18.442209\n",
      "Mdns      45.726801\n",
      "Overs     38.617787\n",
      "Runs      36.773738\n",
      "SR         6.331235\n",
      "Wkts      47.660282\n",
      "dtype: float64\n"
     ]
    }
   ],
   "source": [
    "print('---------\\nSkewness:\\n---------\\n',ballers_data.skew(),'\\n---------\\nKurtosis:\\n---------\\n',ballers_data.kurtosis())"
   ]
  },
  {
   "cell_type": "code",
   "execution_count": 31,
   "metadata": {},
   "outputs": [
    {
     "data": {
      "image/png": "[encoded data removed]",
      "text/plain": [
       "<Figure size 432x288 with 11 Axes>"
      ]
     },
     "metadata": {
      "needs_background": "light"
     },
     "output_type": "display_data"
    }
   ],
   "source": [
    "ax = plt.subplot(3,4,1)\n",
    "ax.hist(ballers_data['10'],bins=20);\n",
    "ax.set_title('10')\n",
    "\n",
    "ax = plt.subplot(3,4,2)\n",
    "ax.hist(ballers_data['4'],bins=20);\n",
    "ax.set_title('4')\n",
    "\n",
    "ax = plt.subplot(3,4,3)\n",
    "ax.hist(ballers_data['5'],bins=20);\n",
    "ax.set_title('5')\n",
    "\n",
    "ax = plt.subplot(3,4,4)\n",
    "ax.hist(ballers_data['Ave'],bins=20);\n",
    "ax.set_title('Ave')\n",
    "\n",
    "ax = plt.subplot(3,4,5)\n",
    "ax.hist(ballers_data['Balls'],bins=20);\n",
    "ax.set_title('Balls')\n",
    "\n",
    "ax = plt.subplot(3,4,6)\n",
    "ax.hist(ballers_data['Mat'],bins=20);\n",
    "ax.set_title('Mat')\n",
    "\n",
    "ax = plt.subplot(3,4,7)\n",
    "ax.hist(ballers_data['Mdns'],bins=20);\n",
    "ax.set_title('Mdns')\n",
    "\n",
    "ax = plt.subplot(3,4,8)\n",
    "ax.hist(ballers_data['Overs'],bins=20);\n",
    "ax.set_title('Overs')\n",
    "\n",
    "ax = plt.subplot(3,4,9)\n",
    "ax.hist(ballers_data['Runs'],bins=20);\n",
    "ax.set_title('Runs')\n",
    "\n",
    "ax = plt.subplot(3,4,10)\n",
    "ax.hist(ballers_data['SR'],bins=20);\n",
    "ax.set_title('SR')\n",
    "\n",
    "ax = plt.subplot(3,4,11)\n",
    "ax.hist(ballers_data['Wkts'],bins=20);\n",
    "ax.set_title('Wkts')\n",
    "\n",
    "plt.tight_layout()"
   ]
  },
  {
   "cell_type": "code",
   "execution_count": 32,
   "metadata": {},
   "outputs": [
    {
     "name": "stdout",
     "output_type": "stream",
     "text": [
      "---------\n",
      "Skewness:\n",
      "---------\n",
      " 0       3.208915\n",
      "100     6.798509\n",
      "4s      8.738411\n",
      "50      5.054434\n",
      "6s      9.397989\n",
      "Ave     1.485551\n",
      "BF      7.257116\n",
      "HS      1.858939\n",
      "Inns    3.660086\n",
      "Mat     4.201362\n",
      "NO      4.042179\n",
      "Runs    4.852983\n",
      "SR      0.835542\n",
      "dtype: float64 \n",
      "---------\n",
      "Kurtosis:\n",
      "---------\n",
      " 0        15.111313\n",
      "100      59.761941\n",
      "4s       93.676430\n",
      "50       32.928021\n",
      "6s      112.050681\n",
      "Ave       5.919030\n",
      "BF       66.434722\n",
      "HS        4.344771\n",
      "Inns     17.885851\n",
      "Mat      24.364767\n",
      "NO       23.075927\n",
      "Runs     30.169855\n",
      "SR        0.555960\n",
      "dtype: float64\n"
     ]
    }
   ],
   "source": [
    "print('---------\\nSkewness:\\n---------\\n',batters_data.skew(),'\\n---------\\nKurtosis:\\n---------\\n',batters_data.kurtosis())"
   ]
  },
  {
   "cell_type": "code",
   "execution_count": 33,
   "metadata": {},
   "outputs": [
    {
     "data": {
      "image/png": "[encoded data removed]",
      "text/plain": [
       "<Figure size 432x288 with 13 Axes>"
      ]
     },
     "metadata": {
      "needs_background": "light"
     },
     "output_type": "display_data"
    }
   ],
   "source": [
    "ax = plt.subplot(4,4,1)\n",
    "ax.hist(batters_data['0'],bins=20);\n",
    "ax.set_title('0')\n",
    "\n",
    "ax = plt.subplot(4,4,2)\n",
    "ax.hist(batters_data['100'],bins=20);\n",
    "ax.set_title('100')\n",
    "\n",
    "ax = plt.subplot(4,4,3)\n",
    "ax.hist(batters_data['4s'],bins=20);\n",
    "ax.set_title('4s')\n",
    "\n",
    "ax = plt.subplot(4,4,4)\n",
    "ax.hist(batters_data['50'],bins=20);\n",
    "ax.set_title('50')\n",
    "\n",
    "ax = plt.subplot(4,4,5)\n",
    "ax.hist(batters_data['6s'],bins=20);\n",
    "ax.set_title('6s')\n",
    "\n",
    "ax = plt.subplot(4,4,6)\n",
    "ax.hist(batters_data['Ave'],bins=20);\n",
    "ax.set_title('Ave')\n",
    "\n",
    "ax = plt.subplot(4,4,7)\n",
    "ax.hist(batters_data['BF'],bins=20);\n",
    "ax.set_title('BF')\n",
    "\n",
    "ax = plt.subplot(4,4,8)\n",
    "ax.hist(batters_data['HS'],bins=20);\n",
    "ax.set_title('HS')\n",
    "\n",
    "ax = plt.subplot(4,4,9)\n",
    "ax.hist(batters_data['Inns'],bins=20);\n",
    "ax.set_title('Inns')\n",
    "\n",
    "ax = plt.subplot(4,4,10)\n",
    "ax.hist(batters_data['Mat'],bins=20);\n",
    "ax.set_title('Mat')\n",
    "\n",
    "ax = plt.subplot(4,4,11)\n",
    "ax.hist(batters_data['NO'],bins=20);\n",
    "ax.set_title('NO')\n",
    "\n",
    "ax = plt.subplot(4,4,12)\n",
    "ax.hist(batters_data['Runs'],bins=20);\n",
    "ax.set_title('Runs')\n",
    "\n",
    "ax = plt.subplot(4,4,13)\n",
    "ax.hist(batters_data['SR'],bins=20);\n",
    "ax.set_title('SR')\n",
    "\n",
    "plt.tight_layout()"
   ]
  },
  {
   "cell_type": "code",
   "execution_count": 34,
   "metadata": {},
   "outputs": [
    {
     "data": {
      "image/png": "[encoded data removed]",
      "text/plain": [
       "<Figure size 432x288 with 1 Axes>"
      ]
     },
     "metadata": {
      "needs_background": "light"
     },
     "output_type": "display_data"
    }
   ],
   "source": [
    "fielders_data.boxplot();"
   ]
  },
  {
   "cell_type": "code",
   "execution_count": 35,
   "metadata": {},
   "outputs": [
    {
     "data": {
      "image/png": "[encoded data removed]",
      "text/plain": [
       "<Figure size 432x288 with 1 Axes>"
      ]
     },
     "metadata": {
      "needs_background": "light"
     },
     "output_type": "display_data"
    }
   ],
   "source": [
    "ballers_data.boxplot();"
   ]
  },
  {
   "cell_type": "code",
   "execution_count": 36,
   "metadata": {},
   "outputs": [
    {
     "data": {
      "image/png": "[encoded data removed]",
      "text/plain": [
       "<Figure size 432x288 with 1 Axes>"
      ]
     },
     "metadata": {
      "needs_background": "light"
     },
     "output_type": "display_data"
    }
   ],
   "source": [
    "batters_data.boxplot();"
   ]
  },
  {
   "cell_type": "code",
   "execution_count": 37,
   "metadata": {},
   "outputs": [
    {
     "data": {
      "text/html": [
       "<div>\n",
       "<style scoped>\n",
       "    .dataframe tbody tr th:only-of-type {\n",
       "        vertical-align: middle;\n",
       "    }\n",
       "\n",
       "    .dataframe tbody tr th {\n",
       "        vertical-align: top;\n",
       "    }\n",
       "\n",
       "    .dataframe thead th {\n",
       "        text-align: right;\n",
       "    }\n",
       "</style>\n",
       "<table border=\"1\" class=\"dataframe\">\n",
       "  <thead>\n",
       "    <tr style=\"text-align: right;\">\n",
       "      <th></th>\n",
       "      <th>Ct</th>\n",
       "      <th>Ct Fi</th>\n",
       "      <th>Ct Wk</th>\n",
       "      <th>D/I</th>\n",
       "      <th>Dis</th>\n",
       "      <th>Inns</th>\n",
       "      <th>Mat</th>\n",
       "      <th>St</th>\n",
       "    </tr>\n",
       "  </thead>\n",
       "  <tbody>\n",
       "    <tr>\n",
       "      <th>count</th>\n",
       "      <td>5057.000000</td>\n",
       "      <td>5057.000000</td>\n",
       "      <td>5057.000000</td>\n",
       "      <td>5057.000000</td>\n",
       "      <td>5057.000000</td>\n",
       "      <td>5057.000000</td>\n",
       "      <td>5057.000000</td>\n",
       "      <td>5057.000000</td>\n",
       "    </tr>\n",
       "    <tr>\n",
       "      <th>mean</th>\n",
       "      <td>11.500297</td>\n",
       "      <td>7.724936</td>\n",
       "      <td>3.775361</td>\n",
       "      <td>0.361302</td>\n",
       "      <td>12.088986</td>\n",
       "      <td>25.549140</td>\n",
       "      <td>17.188056</td>\n",
       "      <td>0.588689</td>\n",
       "    </tr>\n",
       "    <tr>\n",
       "      <th>std</th>\n",
       "      <td>30.738511</td>\n",
       "      <td>18.437997</td>\n",
       "      <td>25.008965</td>\n",
       "      <td>0.400687</td>\n",
       "      <td>33.326521</td>\n",
       "      <td>44.767066</td>\n",
       "      <td>32.797428</td>\n",
       "      <td>4.133848</td>\n",
       "    </tr>\n",
       "    <tr>\n",
       "      <th>min</th>\n",
       "      <td>0.000000</td>\n",
       "      <td>0.000000</td>\n",
       "      <td>0.000000</td>\n",
       "      <td>0.000000</td>\n",
       "      <td>0.000000</td>\n",
       "      <td>0.000000</td>\n",
       "      <td>1.000000</td>\n",
       "      <td>0.000000</td>\n",
       "    </tr>\n",
       "    <tr>\n",
       "      <th>25%</th>\n",
       "      <td>1.000000</td>\n",
       "      <td>0.000000</td>\n",
       "      <td>0.000000</td>\n",
       "      <td>0.076000</td>\n",
       "      <td>1.000000</td>\n",
       "      <td>4.000000</td>\n",
       "      <td>3.000000</td>\n",
       "      <td>0.000000</td>\n",
       "    </tr>\n",
       "    <tr>\n",
       "      <th>50%</th>\n",
       "      <td>2.000000</td>\n",
       "      <td>2.000000</td>\n",
       "      <td>0.000000</td>\n",
       "      <td>0.265000</td>\n",
       "      <td>2.000000</td>\n",
       "      <td>9.000000</td>\n",
       "      <td>6.000000</td>\n",
       "      <td>0.000000</td>\n",
       "    </tr>\n",
       "    <tr>\n",
       "      <th>75%</th>\n",
       "      <td>9.000000</td>\n",
       "      <td>7.000000</td>\n",
       "      <td>0.000000</td>\n",
       "      <td>0.500000</td>\n",
       "      <td>9.000000</td>\n",
       "      <td>26.000000</td>\n",
       "      <td>18.000000</td>\n",
       "      <td>0.000000</td>\n",
       "    </tr>\n",
       "    <tr>\n",
       "      <th>max</th>\n",
       "      <td>532.000000</td>\n",
       "      <td>218.000000</td>\n",
       "      <td>532.000000</td>\n",
       "      <td>4.000000</td>\n",
       "      <td>555.000000</td>\n",
       "      <td>456.000000</td>\n",
       "      <td>463.000000</td>\n",
       "      <td>123.000000</td>\n",
       "    </tr>\n",
       "  </tbody>\n",
       "</table>\n",
       "</div>"
      ],
      "text/plain": [
       "                Ct        Ct Fi        Ct Wk          D/I          Dis  \\\n",
       "count  5057.000000  5057.000000  5057.000000  5057.000000  5057.000000   \n",
       "mean     11.500297     7.724936     3.775361     0.361302    12.088986   \n",
       "std      30.738511    18.437997    25.008965     0.400687    33.326521   \n",
       "min       0.000000     0.000000     0.000000     0.000000     0.000000   \n",
       "25%       1.000000     0.000000     0.000000     0.076000     1.000000   \n",
       "50%       2.000000     2.000000     0.000000     0.265000     2.000000   \n",
       "75%       9.000000     7.000000     0.000000     0.500000     9.000000   \n",
       "max     532.000000   218.000000   532.000000     4.000000   555.000000   \n",
       "\n",
       "              Inns          Mat           St  \n",
       "count  5057.000000  5057.000000  5057.000000  \n",
       "mean     25.549140    17.188056     0.588689  \n",
       "std      44.767066    32.797428     4.133848  \n",
       "min       0.000000     1.000000     0.000000  \n",
       "25%       4.000000     3.000000     0.000000  \n",
       "50%       9.000000     6.000000     0.000000  \n",
       "75%      26.000000    18.000000     0.000000  \n",
       "max     456.000000   463.000000   123.000000  "
      ]
     },
     "execution_count": 37,
     "metadata": {},
     "output_type": "execute_result"
    }
   ],
   "source": [
    "fielders_data.describe()"
   ]
  },
  {
   "cell_type": "code",
   "execution_count": 38,
   "metadata": {},
   "outputs": [
    {
     "data": {
      "text/html": [
       "<div>\n",
       "<style scoped>\n",
       "    .dataframe tbody tr th:only-of-type {\n",
       "        vertical-align: middle;\n",
       "    }\n",
       "\n",
       "    .dataframe tbody tr th {\n",
       "        vertical-align: top;\n",
       "    }\n",
       "\n",
       "    .dataframe thead th {\n",
       "        text-align: right;\n",
       "    }\n",
       "</style>\n",
       "<table border=\"1\" class=\"dataframe\">\n",
       "  <thead>\n",
       "    <tr style=\"text-align: right;\">\n",
       "      <th></th>\n",
       "      <th>10</th>\n",
       "      <th>4</th>\n",
       "      <th>5</th>\n",
       "      <th>Ave</th>\n",
       "      <th>Balls</th>\n",
       "      <th>Mat</th>\n",
       "      <th>Mdns</th>\n",
       "      <th>Overs</th>\n",
       "      <th>Runs</th>\n",
       "      <th>SR</th>\n",
       "      <th>Wkts</th>\n",
       "    </tr>\n",
       "  </thead>\n",
       "  <tbody>\n",
       "    <tr>\n",
       "      <th>count</th>\n",
       "      <td>4638.000000</td>\n",
       "      <td>4638.000000</td>\n",
       "      <td>4638.000000</td>\n",
       "      <td>4638.000000</td>\n",
       "      <td>4638.000000</td>\n",
       "      <td>4638.000000</td>\n",
       "      <td>4638.000000</td>\n",
       "      <td>4638.000000</td>\n",
       "      <td>4638.000000</td>\n",
       "      <td>4638.000000</td>\n",
       "      <td>4638.000000</td>\n",
       "    </tr>\n",
       "    <tr>\n",
       "      <th>mean</th>\n",
       "      <td>0.037301</td>\n",
       "      <td>0.334411</td>\n",
       "      <td>0.325140</td>\n",
       "      <td>21.040097</td>\n",
       "      <td>713.405994</td>\n",
       "      <td>25.905347</td>\n",
       "      <td>0.101337</td>\n",
       "      <td>8.054657</td>\n",
       "      <td>543.600474</td>\n",
       "      <td>22.755261</td>\n",
       "      <td>18.144890</td>\n",
       "    </tr>\n",
       "    <tr>\n",
       "      <th>std</th>\n",
       "      <td>0.520560</td>\n",
       "      <td>1.153735</td>\n",
       "      <td>2.328143</td>\n",
       "      <td>24.181059</td>\n",
       "      <td>2714.866359</td>\n",
       "      <td>46.807212</td>\n",
       "      <td>0.459808</td>\n",
       "      <td>24.532722</td>\n",
       "      <td>1496.448199</td>\n",
       "      <td>26.639593</td>\n",
       "      <td>53.498531</td>\n",
       "    </tr>\n",
       "    <tr>\n",
       "      <th>min</th>\n",
       "      <td>0.000000</td>\n",
       "      <td>0.000000</td>\n",
       "      <td>0.000000</td>\n",
       "      <td>0.000000</td>\n",
       "      <td>0.000000</td>\n",
       "      <td>1.000000</td>\n",
       "      <td>0.000000</td>\n",
       "      <td>0.000000</td>\n",
       "      <td>0.000000</td>\n",
       "      <td>0.000000</td>\n",
       "      <td>0.000000</td>\n",
       "    </tr>\n",
       "    <tr>\n",
       "      <th>25%</th>\n",
       "      <td>0.000000</td>\n",
       "      <td>0.000000</td>\n",
       "      <td>0.000000</td>\n",
       "      <td>0.000000</td>\n",
       "      <td>0.000000</td>\n",
       "      <td>3.000000</td>\n",
       "      <td>0.000000</td>\n",
       "      <td>0.000000</td>\n",
       "      <td>0.000000</td>\n",
       "      <td>0.000000</td>\n",
       "      <td>0.000000</td>\n",
       "    </tr>\n",
       "    <tr>\n",
       "      <th>50%</th>\n",
       "      <td>0.000000</td>\n",
       "      <td>0.000000</td>\n",
       "      <td>0.000000</td>\n",
       "      <td>19.125000</td>\n",
       "      <td>0.000000</td>\n",
       "      <td>8.000000</td>\n",
       "      <td>0.000000</td>\n",
       "      <td>0.000000</td>\n",
       "      <td>68.000000</td>\n",
       "      <td>17.400000</td>\n",
       "      <td>2.000000</td>\n",
       "    </tr>\n",
       "    <tr>\n",
       "      <th>75%</th>\n",
       "      <td>0.000000</td>\n",
       "      <td>0.000000</td>\n",
       "      <td>0.000000</td>\n",
       "      <td>33.522500</td>\n",
       "      <td>215.500000</td>\n",
       "      <td>26.000000</td>\n",
       "      <td>0.000000</td>\n",
       "      <td>3.000000</td>\n",
       "      <td>345.000000</td>\n",
       "      <td>38.000000</td>\n",
       "      <td>11.000000</td>\n",
       "    </tr>\n",
       "    <tr>\n",
       "      <th>max</th>\n",
       "      <td>22.000000</td>\n",
       "      <td>17.000000</td>\n",
       "      <td>67.000000</td>\n",
       "      <td>251.000000</td>\n",
       "      <td>44039.000000</td>\n",
       "      <td>463.000000</td>\n",
       "      <td>6.000000</td>\n",
       "      <td>361.200000</td>\n",
       "      <td>18355.000000</td>\n",
       "      <td>234.000000</td>\n",
       "      <td>800.000000</td>\n",
       "    </tr>\n",
       "  </tbody>\n",
       "</table>\n",
       "</div>"
      ],
      "text/plain": [
       "                10            4            5          Ave         Balls  \\\n",
       "count  4638.000000  4638.000000  4638.000000  4638.000000   4638.000000   \n",
       "mean      0.037301     0.334411     0.325140    21.040097    713.405994   \n",
       "std       0.520560     1.153735     2.328143    24.181059   2714.866359   \n",
       "min       0.000000     0.000000     0.000000     0.000000      0.000000   \n",
       "25%       0.000000     0.000000     0.000000     0.000000      0.000000   \n",
       "50%       0.000000     0.000000     0.000000    19.125000      0.000000   \n",
       "75%       0.000000     0.000000     0.000000    33.522500    215.500000   \n",
       "max      22.000000    17.000000    67.000000   251.000000  44039.000000   \n",
       "\n",
       "               Mat         Mdns        Overs          Runs           SR  \\\n",
       "count  4638.000000  4638.000000  4638.000000   4638.000000  4638.000000   \n",
       "mean     25.905347     0.101337     8.054657    543.600474    22.755261   \n",
       "std      46.807212     0.459808    24.532722   1496.448199    26.639593   \n",
       "min       1.000000     0.000000     0.000000      0.000000     0.000000   \n",
       "25%       3.000000     0.000000     0.000000      0.000000     0.000000   \n",
       "50%       8.000000     0.000000     0.000000     68.000000    17.400000   \n",
       "75%      26.000000     0.000000     3.000000    345.000000    38.000000   \n",
       "max     463.000000     6.000000   361.200000  18355.000000   234.000000   \n",
       "\n",
       "              Wkts  \n",
       "count  4638.000000  \n",
       "mean     18.144890  \n",
       "std      53.498531  \n",
       "min       0.000000  \n",
       "25%       0.000000  \n",
       "50%       2.000000  \n",
       "75%      11.000000  \n",
       "max     800.000000  "
      ]
     },
     "execution_count": 38,
     "metadata": {},
     "output_type": "execute_result"
    }
   ],
   "source": [
    "ballers_data.describe()"
   ]
  },
  {
   "cell_type": "code",
   "execution_count": 39,
   "metadata": {},
   "outputs": [
    {
     "data": {
      "text/html": [
       "<div>\n",
       "<style scoped>\n",
       "    .dataframe tbody tr th:only-of-type {\n",
       "        vertical-align: middle;\n",
       "    }\n",
       "\n",
       "    .dataframe tbody tr th {\n",
       "        vertical-align: top;\n",
       "    }\n",
       "\n",
       "    .dataframe thead th {\n",
       "        text-align: right;\n",
       "    }\n",
       "</style>\n",
       "<table border=\"1\" class=\"dataframe\">\n",
       "  <thead>\n",
       "    <tr style=\"text-align: right;\">\n",
       "      <th></th>\n",
       "      <th>0</th>\n",
       "      <th>100</th>\n",
       "      <th>4s</th>\n",
       "      <th>50</th>\n",
       "      <th>6s</th>\n",
       "      <th>Ave</th>\n",
       "      <th>BF</th>\n",
       "      <th>HS</th>\n",
       "      <th>Inns</th>\n",
       "      <th>Mat</th>\n",
       "      <th>NO</th>\n",
       "      <th>Runs</th>\n",
       "      <th>SR</th>\n",
       "    </tr>\n",
       "  </thead>\n",
       "  <tbody>\n",
       "    <tr>\n",
       "      <th>count</th>\n",
       "      <td>7507.000000</td>\n",
       "      <td>7507.000000</td>\n",
       "      <td>7507.000000</td>\n",
       "      <td>7507.000000</td>\n",
       "      <td>7507.000000</td>\n",
       "      <td>7507.000000</td>\n",
       "      <td>7507.000000</td>\n",
       "      <td>7507.000000</td>\n",
       "      <td>7507.000000</td>\n",
       "      <td>7507.000000</td>\n",
       "      <td>7507.000000</td>\n",
       "      <td>7507.000000</td>\n",
       "      <td>7507.000000</td>\n",
       "    </tr>\n",
       "    <tr>\n",
       "      <th>mean</th>\n",
       "      <td>2.233116</td>\n",
       "      <td>0.807113</td>\n",
       "      <td>3.052351</td>\n",
       "      <td>2.681098</td>\n",
       "      <td>1.232050</td>\n",
       "      <td>17.199338</td>\n",
       "      <td>330.309311</td>\n",
       "      <td>50.162515</td>\n",
       "      <td>23.244439</td>\n",
       "      <td>22.343679</td>\n",
       "      <td>3.747436</td>\n",
       "      <td>555.846543</td>\n",
       "      <td>44.526871</td>\n",
       "    </tr>\n",
       "    <tr>\n",
       "      <th>std</th>\n",
       "      <td>3.659066</td>\n",
       "      <td>3.224083</td>\n",
       "      <td>15.018828</td>\n",
       "      <td>7.627629</td>\n",
       "      <td>6.340647</td>\n",
       "      <td>14.028155</td>\n",
       "      <td>1261.176762</td>\n",
       "      <td>54.147291</td>\n",
       "      <td>40.792245</td>\n",
       "      <td>39.731726</td>\n",
       "      <td>7.000639</td>\n",
       "      <td>1385.948540</td>\n",
       "      <td>47.945557</td>\n",
       "    </tr>\n",
       "    <tr>\n",
       "      <th>min</th>\n",
       "      <td>0.000000</td>\n",
       "      <td>0.000000</td>\n",
       "      <td>0.000000</td>\n",
       "      <td>0.000000</td>\n",
       "      <td>0.000000</td>\n",
       "      <td>0.000000</td>\n",
       "      <td>0.000000</td>\n",
       "      <td>0.000000</td>\n",
       "      <td>0.000000</td>\n",
       "      <td>1.000000</td>\n",
       "      <td>0.000000</td>\n",
       "      <td>0.000000</td>\n",
       "      <td>0.000000</td>\n",
       "    </tr>\n",
       "    <tr>\n",
       "      <th>25%</th>\n",
       "      <td>0.000000</td>\n",
       "      <td>0.000000</td>\n",
       "      <td>0.000000</td>\n",
       "      <td>0.000000</td>\n",
       "      <td>0.000000</td>\n",
       "      <td>6.630000</td>\n",
       "      <td>0.000000</td>\n",
       "      <td>11.000000</td>\n",
       "      <td>3.000000</td>\n",
       "      <td>3.000000</td>\n",
       "      <td>0.000000</td>\n",
       "      <td>18.000000</td>\n",
       "      <td>0.000000</td>\n",
       "    </tr>\n",
       "    <tr>\n",
       "      <th>50%</th>\n",
       "      <td>1.000000</td>\n",
       "      <td>0.000000</td>\n",
       "      <td>0.000000</td>\n",
       "      <td>0.000000</td>\n",
       "      <td>0.000000</td>\n",
       "      <td>14.830000</td>\n",
       "      <td>10.000000</td>\n",
       "      <td>32.000000</td>\n",
       "      <td>7.000000</td>\n",
       "      <td>8.000000</td>\n",
       "      <td>1.000000</td>\n",
       "      <td>85.000000</td>\n",
       "      <td>40.000000</td>\n",
       "    </tr>\n",
       "    <tr>\n",
       "      <th>75%</th>\n",
       "      <td>3.000000</td>\n",
       "      <td>0.000000</td>\n",
       "      <td>0.000000</td>\n",
       "      <td>1.000000</td>\n",
       "      <td>0.000000</td>\n",
       "      <td>25.000000</td>\n",
       "      <td>117.000000</td>\n",
       "      <td>71.000000</td>\n",
       "      <td>24.000000</td>\n",
       "      <td>24.000000</td>\n",
       "      <td>4.000000</td>\n",
       "      <td>385.000000</td>\n",
       "      <td>78.950000</td>\n",
       "    </tr>\n",
       "    <tr>\n",
       "      <th>max</th>\n",
       "      <td>43.000000</td>\n",
       "      <td>51.000000</td>\n",
       "      <td>247.000000</td>\n",
       "      <td>96.000000</td>\n",
       "      <td>120.000000</td>\n",
       "      <td>160.500000</td>\n",
       "      <td>21367.000000</td>\n",
       "      <td>400.000000</td>\n",
       "      <td>452.000000</td>\n",
       "      <td>463.000000</td>\n",
       "      <td>89.000000</td>\n",
       "      <td>18426.000000</td>\n",
       "      <td>400.000000</td>\n",
       "    </tr>\n",
       "  </tbody>\n",
       "</table>\n",
       "</div>"
      ],
      "text/plain": [
       "                 0          100           4s           50           6s  \\\n",
       "count  7507.000000  7507.000000  7507.000000  7507.000000  7507.000000   \n",
       "mean      2.233116     0.807113     3.052351     2.681098     1.232050   \n",
       "std       3.659066     3.224083    15.018828     7.627629     6.340647   \n",
       "min       0.000000     0.000000     0.000000     0.000000     0.000000   \n",
       "25%       0.000000     0.000000     0.000000     0.000000     0.000000   \n",
       "50%       1.000000     0.000000     0.000000     0.000000     0.000000   \n",
       "75%       3.000000     0.000000     0.000000     1.000000     0.000000   \n",
       "max      43.000000    51.000000   247.000000    96.000000   120.000000   \n",
       "\n",
       "               Ave            BF           HS         Inns          Mat  \\\n",
       "count  7507.000000   7507.000000  7507.000000  7507.000000  7507.000000   \n",
       "mean     17.199338    330.309311    50.162515    23.244439    22.343679   \n",
       "std      14.028155   1261.176762    54.147291    40.792245    39.731726   \n",
       "min       0.000000      0.000000     0.000000     0.000000     1.000000   \n",
       "25%       6.630000      0.000000    11.000000     3.000000     3.000000   \n",
       "50%      14.830000     10.000000    32.000000     7.000000     8.000000   \n",
       "75%      25.000000    117.000000    71.000000    24.000000    24.000000   \n",
       "max     160.500000  21367.000000   400.000000   452.000000   463.000000   \n",
       "\n",
       "                NO          Runs           SR  \n",
       "count  7507.000000   7507.000000  7507.000000  \n",
       "mean      3.747436    555.846543    44.526871  \n",
       "std       7.000639   1385.948540    47.945557  \n",
       "min       0.000000      0.000000     0.000000  \n",
       "25%       0.000000     18.000000     0.000000  \n",
       "50%       1.000000     85.000000    40.000000  \n",
       "75%       4.000000    385.000000    78.950000  \n",
       "max      89.000000  18426.000000   400.000000  "
      ]
     },
     "execution_count": 39,
     "metadata": {},
     "output_type": "execute_result"
    }
   ],
   "source": [
    "batters_data.describe()"
   ]
  },
  {
   "cell_type": "code",
   "execution_count": 40,
   "metadata": {},
   "outputs": [
    {
     "data": {
      "image/png": "[encoded data removed]",
      "text/plain": [
       "<Figure size 1296x432 with 1 Axes>"
      ]
     },
     "metadata": {
      "needs_background": "light"
     },
     "output_type": "display_data"
    },
    {
     "data": {
      "image/png": "[encoded data removed]",
      "text/plain": [
       "<Figure size 1296x432 with 1 Axes>"
      ]
     },
     "metadata": {
      "needs_background": "light"
     },
     "output_type": "display_data"
    },
    {
     "data": {
      "image/png": "[encoded data removed]",
      "text/plain": [
       "<Figure size 1296x432 with 1 Axes>"
      ]
     },
     "metadata": {
      "needs_background": "light"
     },
     "output_type": "display_data"
    }
   ],
   "source": [
    "grp = fielders_data.groupby(['Region'])\n",
    "agg = grp.aggregate({'Player':'count'})\n",
    "agg.reset_index(inplace=True)\n",
    "agg.columns = ['Region','Count']\n",
    "agg.plot.bar(x='Region',y='Count',rot=90,figsize=(18,6),title='Region Wise Fielders Counts',grid=True);\n",
    "\n",
    "grp = ballers_data.groupby(['Region'])\n",
    "agg = grp.aggregate({'Player':'count'})\n",
    "agg.reset_index(inplace=True)\n",
    "agg.columns = ['Region','Count']\n",
    "agg.plot.bar(x='Region',y='Count',rot=90,figsize=(18,6),title='Region Wise Ballers Counts',grid=True);\n",
    "\n",
    "grp = batters_data.groupby(['Region'])\n",
    "agg = grp.aggregate({'Player':'count'})\n",
    "agg.reset_index(inplace=True)\n",
    "agg.columns = ['Region','Count']\n",
    "agg.plot.bar(x='Region',y='Count',rot=90,figsize=(18,6),title='Region Wise Batters Counts',grid=True);"
   ]
  },
  {
   "cell_type": "code",
   "execution_count": 41,
   "metadata": {},
   "outputs": [
    {
     "data": {
      "image/png": "[encoded data removed]",
      "text/plain": [
       "<Figure size 1296x432 with 1 Axes>"
      ]
     },
     "metadata": {
      "needs_background": "light"
     },
     "output_type": "display_data"
    },
    {
     "data": {
      "image/png": "[encoded data removed]",
      "text/plain": [
       "<Figure size 1296x432 with 1 Axes>"
      ]
     },
     "metadata": {
      "needs_background": "light"
     },
     "output_type": "display_data"
    },
    {
     "data": {
      "image/png": "[encoded data removed]",
      "text/plain": [
       "<Figure size 1296x432 with 1 Axes>"
      ]
     },
     "metadata": {
      "needs_background": "light"
     },
     "output_type": "display_data"
    }
   ],
   "source": [
    "grp = fielders_data.groupby(['Region'])\n",
    "agg = grp.aggregate({'Mat':'mean'})\n",
    "agg.reset_index(inplace=True)\n",
    "agg.columns = ['Region','Average Matches Played']\n",
    "agg.plot.bar(x='Region',y='Average Matches Played',rot=90,figsize=(18,6),title='Region Wise Average Matches Played As Fielder',grid=True);\n",
    "\n",
    "grp = ballers_data.groupby(['Region'])\n",
    "agg = grp.aggregate({'Mat':'mean'})\n",
    "agg.reset_index(inplace=True)\n",
    "agg.columns = ['Region','Average Matches Played']\n",
    "agg.plot.bar(x='Region',y='Average Matches Played',rot=90,figsize=(18,6),title='Region Wise Average Matches Played As Baller',grid=True);\n",
    "\n",
    "grp = batters_data.groupby(['Region'])\n",
    "agg = grp.aggregate({'Mat':'mean'})\n",
    "agg.reset_index(inplace=True)\n",
    "agg.columns = ['Region','Average Matches Played']\n",
    "agg.plot.bar(x='Region',y='Average Matches Played',rot=90,figsize=(18,6),title='Region Wise Average Matches Played As Batsman',grid=True);"
   ]
  },
  {
   "cell_type": "code",
   "execution_count": 42,
   "metadata": {},
   "outputs": [
    {
     "data": {
      "text/html": [
       "<div>\n",
       "<style scoped>\n",
       "    .dataframe tbody tr th:only-of-type {\n",
       "        vertical-align: middle;\n",
       "    }\n",
       "\n",
       "    .dataframe tbody tr th {\n",
       "        vertical-align: top;\n",
       "    }\n",
       "\n",
       "    .dataframe thead th {\n",
       "        text-align: right;\n",
       "    }\n",
       "</style>\n",
       "<table border=\"1\" class=\"dataframe\">\n",
       "  <thead>\n",
       "    <tr style=\"text-align: right;\">\n",
       "      <th></th>\n",
       "      <th>Player</th>\n",
       "      <th>Region</th>\n",
       "      <th>match_type</th>\n",
       "      <th>Runs</th>\n",
       "      <th>50</th>\n",
       "      <th>Percentage of 50</th>\n",
       "      <th>100</th>\n",
       "      <th>Percentage of 100</th>\n",
       "    </tr>\n",
       "  </thead>\n",
       "  <tbody>\n",
       "    <tr>\n",
       "      <th>0</th>\n",
       "      <td>SR TENDULKAR</td>\n",
       "      <td>INDIA</td>\n",
       "      <td>odi</td>\n",
       "      <td>18426</td>\n",
       "      <td>96</td>\n",
       "      <td>0.521</td>\n",
       "      <td>49</td>\n",
       "      <td>0.266</td>\n",
       "    </tr>\n",
       "    <tr>\n",
       "      <th>1</th>\n",
       "      <td>KC SANGAKKARA</td>\n",
       "      <td>SL</td>\n",
       "      <td>odi</td>\n",
       "      <td>14234</td>\n",
       "      <td>93</td>\n",
       "      <td>0.653</td>\n",
       "      <td>25</td>\n",
       "      <td>0.176</td>\n",
       "    </tr>\n",
       "    <tr>\n",
       "      <th>2</th>\n",
       "      <td>RT PONTING</td>\n",
       "      <td>AUS</td>\n",
       "      <td>odi</td>\n",
       "      <td>13704</td>\n",
       "      <td>82</td>\n",
       "      <td>0.598</td>\n",
       "      <td>30</td>\n",
       "      <td>0.219</td>\n",
       "    </tr>\n",
       "    <tr>\n",
       "      <th>3</th>\n",
       "      <td>ST JAYASURIYA</td>\n",
       "      <td>SL</td>\n",
       "      <td>odi</td>\n",
       "      <td>13430</td>\n",
       "      <td>68</td>\n",
       "      <td>0.506</td>\n",
       "      <td>28</td>\n",
       "      <td>0.208</td>\n",
       "    </tr>\n",
       "    <tr>\n",
       "      <th>4</th>\n",
       "      <td>DPMD JAYAWARDENE</td>\n",
       "      <td>SL</td>\n",
       "      <td>odi</td>\n",
       "      <td>12650</td>\n",
       "      <td>77</td>\n",
       "      <td>0.609</td>\n",
       "      <td>19</td>\n",
       "      <td>0.150</td>\n",
       "    </tr>\n",
       "    <tr>\n",
       "      <th>...</th>\n",
       "      <td>...</td>\n",
       "      <td>...</td>\n",
       "      <td>...</td>\n",
       "      <td>...</td>\n",
       "      <td>...</td>\n",
       "      <td>...</td>\n",
       "      <td>...</td>\n",
       "      <td>...</td>\n",
       "    </tr>\n",
       "    <tr>\n",
       "      <th>2996</th>\n",
       "      <td>CA SNEDDEN</td>\n",
       "      <td>NZ</td>\n",
       "      <td>test</td>\n",
       "      <td>0</td>\n",
       "      <td>0</td>\n",
       "      <td>0.000</td>\n",
       "      <td>0</td>\n",
       "      <td>0.000</td>\n",
       "    </tr>\n",
       "    <tr>\n",
       "      <th>2997</th>\n",
       "      <td>VN SWAMY</td>\n",
       "      <td>INDIA</td>\n",
       "      <td>test</td>\n",
       "      <td>0</td>\n",
       "      <td>0</td>\n",
       "      <td>0.000</td>\n",
       "      <td>0</td>\n",
       "      <td>0.000</td>\n",
       "    </tr>\n",
       "    <tr>\n",
       "      <th>2998</th>\n",
       "      <td>USMAN SHINWARI</td>\n",
       "      <td>PAK</td>\n",
       "      <td>test</td>\n",
       "      <td>0</td>\n",
       "      <td>0</td>\n",
       "      <td>0.000</td>\n",
       "      <td>0</td>\n",
       "      <td>0.000</td>\n",
       "    </tr>\n",
       "    <tr>\n",
       "      <th>2999</th>\n",
       "      <td>CM WILLOUGHBY</td>\n",
       "      <td>SA</td>\n",
       "      <td>test</td>\n",
       "      <td>0</td>\n",
       "      <td>0</td>\n",
       "      <td>0.000</td>\n",
       "      <td>0</td>\n",
       "      <td>0.000</td>\n",
       "    </tr>\n",
       "    <tr>\n",
       "      <th>3000</th>\n",
       "      <td>JW WILSON</td>\n",
       "      <td>AUS</td>\n",
       "      <td>test</td>\n",
       "      <td>0</td>\n",
       "      <td>0</td>\n",
       "      <td>0.000</td>\n",
       "      <td>0</td>\n",
       "      <td>0.000</td>\n",
       "    </tr>\n",
       "  </tbody>\n",
       "</table>\n",
       "<p>7507 rows × 8 columns</p>\n",
       "</div>"
      ],
      "text/plain": [
       "                Player Region match_type   Runs  50  Percentage of 50  100  \\\n",
       "0         SR TENDULKAR  INDIA        odi  18426  96             0.521   49   \n",
       "1        KC SANGAKKARA     SL        odi  14234  93             0.653   25   \n",
       "2           RT PONTING    AUS        odi  13704  82             0.598   30   \n",
       "3        ST JAYASURIYA     SL        odi  13430  68             0.506   28   \n",
       "4     DPMD JAYAWARDENE     SL        odi  12650  77             0.609   19   \n",
       "...                ...    ...        ...    ...  ..               ...  ...   \n",
       "2996        CA SNEDDEN     NZ       test      0   0             0.000    0   \n",
       "2997          VN SWAMY  INDIA       test      0   0             0.000    0   \n",
       "2998    USMAN SHINWARI    PAK       test      0   0             0.000    0   \n",
       "2999     CM WILLOUGHBY     SA       test      0   0             0.000    0   \n",
       "3000         JW WILSON    AUS       test      0   0             0.000    0   \n",
       "\n",
       "      Percentage of 100  \n",
       "0                 0.266  \n",
       "1                 0.176  \n",
       "2                 0.219  \n",
       "3                 0.208  \n",
       "4                 0.150  \n",
       "...                 ...  \n",
       "2996              0.000  \n",
       "2997              0.000  \n",
       "2998              0.000  \n",
       "2999              0.000  \n",
       "3000              0.000  \n",
       "\n",
       "[7507 rows x 8 columns]"
      ]
     },
     "execution_count": 42,
     "metadata": {},
     "output_type": "execute_result"
    }
   ],
   "source": [
    "batters_data['Percentage of 100'] = (batters_data['100']/batters_data['Runs'])*100\n",
    "batters_data['Percentage of 50'] = (batters_data['50']/batters_data['Runs'])*100\n",
    "\n",
    "batters_data['Percentage of 100'].fillna(0,inplace=True)\n",
    "batters_data['Percentage of 50'].fillna(0,inplace=True)\n",
    "\n",
    "batters_data['Percentage of 100'] = batters_data['Percentage of 100'].apply(lambda x:round(x,3))\n",
    "batters_data['Percentage of 50'] = batters_data['Percentage of 50'].apply(lambda x:round(x,3))\n",
    "\n",
    "to_plot = batters_data[['Player','Region','match_type','Runs','50','Percentage of 50','100','Percentage of 100']]\n",
    "to_plot"
   ]
  },
  {
   "cell_type": "code",
   "execution_count": 43,
   "metadata": {},
   "outputs": [],
   "source": [
    "# batters_data.groupby([])"
   ]
  },
  {
   "cell_type": "code",
   "execution_count": 44,
   "metadata": {},
   "outputs": [],
   "source": [
    "def get_class(x):\n",
    "    cls = ''\n",
    "    if (0 <= x) and (x < 10):\n",
    "        cls='0 - 9'\n",
    "    elif (10 <= x) and (x < 20):\n",
    "        cls = '10 - 19'\n",
    "    elif (20 <= x) and (x < 30):\n",
    "        cls = '20 - 29'\n",
    "    elif (30 <= x) and (x < 40):\n",
    "        cls = '30 - 39'\n",
    "    elif (40 <= x) and (x < 50):\n",
    "        cls = '40 - 49'\n",
    "    elif (50 <= x) and (x < 60):\n",
    "        cls='50 - 59'\n",
    "    return cls"
   ]
  },
  {
   "cell_type": "code",
   "execution_count": 45,
   "metadata": {},
   "outputs": [
    {
     "data": {
      "text/html": [
       "<div>\n",
       "<style scoped>\n",
       "    .dataframe tbody tr th:only-of-type {\n",
       "        vertical-align: middle;\n",
       "    }\n",
       "\n",
       "    .dataframe tbody tr th {\n",
       "        vertical-align: top;\n",
       "    }\n",
       "\n",
       "    .dataframe thead th {\n",
       "        text-align: right;\n",
       "    }\n",
       "</style>\n",
       "<table border=\"1\" class=\"dataframe\">\n",
       "  <thead>\n",
       "    <tr style=\"text-align: right;\">\n",
       "      <th></th>\n",
       "      <th>Player</th>\n",
       "      <th>100</th>\n",
       "      <th>class</th>\n",
       "    </tr>\n",
       "  </thead>\n",
       "  <tbody>\n",
       "    <tr>\n",
       "      <th>0</th>\n",
       "      <td>SR TENDULKAR</td>\n",
       "      <td>49</td>\n",
       "      <td>40 - 49</td>\n",
       "    </tr>\n",
       "    <tr>\n",
       "      <th>1</th>\n",
       "      <td>KC SANGAKKARA</td>\n",
       "      <td>25</td>\n",
       "      <td>20 - 29</td>\n",
       "    </tr>\n",
       "    <tr>\n",
       "      <th>2</th>\n",
       "      <td>RT PONTING</td>\n",
       "      <td>30</td>\n",
       "      <td>30 - 39</td>\n",
       "    </tr>\n",
       "    <tr>\n",
       "      <th>3</th>\n",
       "      <td>ST JAYASURIYA</td>\n",
       "      <td>28</td>\n",
       "      <td>20 - 29</td>\n",
       "    </tr>\n",
       "    <tr>\n",
       "      <th>4</th>\n",
       "      <td>DPMD JAYAWARDENE</td>\n",
       "      <td>19</td>\n",
       "      <td>10 - 19</td>\n",
       "    </tr>\n",
       "    <tr>\n",
       "      <th>...</th>\n",
       "      <td>...</td>\n",
       "      <td>...</td>\n",
       "      <td>...</td>\n",
       "    </tr>\n",
       "    <tr>\n",
       "      <th>2996</th>\n",
       "      <td>CA SNEDDEN</td>\n",
       "      <td>0</td>\n",
       "      <td>0 - 9</td>\n",
       "    </tr>\n",
       "    <tr>\n",
       "      <th>2997</th>\n",
       "      <td>VN SWAMY</td>\n",
       "      <td>0</td>\n",
       "      <td>0 - 9</td>\n",
       "    </tr>\n",
       "    <tr>\n",
       "      <th>2998</th>\n",
       "      <td>USMAN SHINWARI</td>\n",
       "      <td>0</td>\n",
       "      <td>0 - 9</td>\n",
       "    </tr>\n",
       "    <tr>\n",
       "      <th>2999</th>\n",
       "      <td>CM WILLOUGHBY</td>\n",
       "      <td>0</td>\n",
       "      <td>0 - 9</td>\n",
       "    </tr>\n",
       "    <tr>\n",
       "      <th>3000</th>\n",
       "      <td>JW WILSON</td>\n",
       "      <td>0</td>\n",
       "      <td>0 - 9</td>\n",
       "    </tr>\n",
       "  </tbody>\n",
       "</table>\n",
       "<p>7507 rows × 3 columns</p>\n",
       "</div>"
      ],
      "text/plain": [
       "                Player  100    class\n",
       "0         SR TENDULKAR   49  40 - 49\n",
       "1        KC SANGAKKARA   25  20 - 29\n",
       "2           RT PONTING   30  30 - 39\n",
       "3        ST JAYASURIYA   28  20 - 29\n",
       "4     DPMD JAYAWARDENE   19  10 - 19\n",
       "...                ...  ...      ...\n",
       "2996        CA SNEDDEN    0    0 - 9\n",
       "2997          VN SWAMY    0    0 - 9\n",
       "2998    USMAN SHINWARI    0    0 - 9\n",
       "2999     CM WILLOUGHBY    0    0 - 9\n",
       "3000         JW WILSON    0    0 - 9\n",
       "\n",
       "[7507 rows x 3 columns]"
      ]
     },
     "execution_count": 45,
     "metadata": {},
     "output_type": "execute_result"
    }
   ],
   "source": [
    "x = batters_data[['Player','100']].copy()\n",
    "x['class'] = x['100'].apply(lambda x : get_class(x))\n",
    "x"
   ]
  },
  {
   "cell_type": "code",
   "execution_count": null,
   "metadata": {},
   "outputs": [],
   "source": []
  },
  {
   "cell_type": "code",
   "execution_count": 46,
   "metadata": {},
   "outputs": [
    {
     "data": {
      "text/html": [
       "<div>\n",
       "<style scoped>\n",
       "    .dataframe tbody tr th:only-of-type {\n",
       "        vertical-align: middle;\n",
       "    }\n",
       "\n",
       "    .dataframe tbody tr th {\n",
       "        vertical-align: top;\n",
       "    }\n",
       "\n",
       "    .dataframe thead th {\n",
       "        text-align: right;\n",
       "    }\n",
       "</style>\n",
       "<table border=\"1\" class=\"dataframe\">\n",
       "  <thead>\n",
       "    <tr style=\"text-align: right;\">\n",
       "      <th></th>\n",
       "      <th>Century Class</th>\n",
       "      <th>Count of Players</th>\n",
       "    </tr>\n",
       "  </thead>\n",
       "  <tbody>\n",
       "    <tr>\n",
       "      <th>0</th>\n",
       "      <td>0 - 9</td>\n",
       "      <td>7324</td>\n",
       "    </tr>\n",
       "    <tr>\n",
       "      <th>1</th>\n",
       "      <td>10 - 19</td>\n",
       "      <td>124</td>\n",
       "    </tr>\n",
       "    <tr>\n",
       "      <th>2</th>\n",
       "      <td>20 - 29</td>\n",
       "      <td>43</td>\n",
       "    </tr>\n",
       "    <tr>\n",
       "      <th>3</th>\n",
       "      <td>30 - 39</td>\n",
       "      <td>11</td>\n",
       "    </tr>\n",
       "    <tr>\n",
       "      <th>4</th>\n",
       "      <td>40 - 49</td>\n",
       "      <td>4</td>\n",
       "    </tr>\n",
       "    <tr>\n",
       "      <th>5</th>\n",
       "      <td>50 - 59</td>\n",
       "      <td>1</td>\n",
       "    </tr>\n",
       "  </tbody>\n",
       "</table>\n",
       "</div>"
      ],
      "text/plain": [
       "  Century Class  Count of Players\n",
       "0         0 - 9              7324\n",
       "1       10 - 19               124\n",
       "2       20 - 29                43\n",
       "3       30 - 39                11\n",
       "4       40 - 49                 4\n",
       "5       50 - 59                 1"
      ]
     },
     "execution_count": 46,
     "metadata": {},
     "output_type": "execute_result"
    }
   ],
   "source": [
    "grp = x.groupby(['class']).aggregate({'Player':'count'}).reset_index()\n",
    "grp.columns = ['Century Class','Count of Players']\n",
    "grp"
   ]
  },
  {
   "cell_type": "code",
   "execution_count": 47,
   "metadata": {},
   "outputs": [],
   "source": [
    "odi_filter = batters_data.match_type=='odi'\n",
    "test_filter = batters_data.match_type=='test'\n",
    "t20_filter = batters_data.match_type=='t20'"
   ]
  },
  {
   "cell_type": "code",
   "execution_count": 48,
   "metadata": {},
   "outputs": [
    {
     "data": {
      "image/png": "[encoded data removed]",
      "text/plain": [
       "<Figure size 432x288 with 1 Axes>"
      ]
     },
     "metadata": {
      "needs_background": "light"
     },
     "output_type": "display_data"
    }
   ],
   "source": [
    "batters_data[odi_filter][['Ave','SR']].boxplot();"
   ]
  },
  {
   "cell_type": "code",
   "execution_count": 49,
   "metadata": {},
   "outputs": [
    {
     "data": {
      "image/png": "[encoded data removed]",
      "text/plain": [
       "<Figure size 432x288 with 1 Axes>"
      ]
     },
     "metadata": {
      "needs_background": "light"
     },
     "output_type": "display_data"
    }
   ],
   "source": [
    "batters_data[test_filter][['Ave','SR']].boxplot();"
   ]
  },
  {
   "cell_type": "code",
   "execution_count": 50,
   "metadata": {},
   "outputs": [
    {
     "data": {
      "image/png": "[encoded data removed]",
      "text/plain": [
       "<Figure size 432x288 with 1 Axes>"
      ]
     },
     "metadata": {
      "needs_background": "light"
     },
     "output_type": "display_data"
    }
   ],
   "source": [
    "batters_data[t20_filter][['Ave','SR']].boxplot();"
   ]
  },
  {
   "cell_type": "code",
   "execution_count": 51,
   "metadata": {},
   "outputs": [],
   "source": [
    "odi_filter = ballers_data.match_type=='odi'\n",
    "test_filter = ballers_data.match_type=='test'\n",
    "t20_filter = ballers_data.match_type=='t20'\n",
    "\n",
    "min_odi_wkts = ballers_data[odi_filter]['Wkts'].min()\n",
    "avg_odi_wkts = ballers_data[odi_filter]['Wkts'].mean()\n",
    "max_odi_wkts = ballers_data[odi_filter]['Wkts'].max()\n",
    "\n",
    "min_test_wkts = ballers_data[test_filter]['Wkts'].min()\n",
    "avg_test_wkts = ballers_data[test_filter]['Wkts'].mean()\n",
    "max_test_wkts = ballers_data[test_filter]['Wkts'].max()\n",
    "\n",
    "min_t20_wkts = ballers_data[t20_filter]['Wkts'].min()\n",
    "avg_t20_wkts = ballers_data[t20_filter]['Wkts'].mean()\n",
    "max_t20_wkts = ballers_data[t20_filter]['Wkts'].max()"
   ]
  },
  {
   "cell_type": "code",
   "execution_count": 52,
   "metadata": {
    "scrolled": true
   },
   "outputs": [
    {
     "data": {
      "image/png": "[encoded data removed]",
      "text/plain": [
       "<Figure size 432x288 with 1 Axes>"
      ]
     },
     "metadata": {
      "needs_background": "light"
     },
     "output_type": "display_data"
    }
   ],
   "source": [
    "plt.scatter([0,0.5,1],[min_odi_wkts,avg_test_wkts,max_odi_wkts],marker='x');\n",
    "plt.scatter([1.5,2,2.5],[min_test_wkts,avg_test_wkts,max_test_wkts],marker='x');\n",
    "plt.scatter([3,3.5,4],[min_t20_wkts,avg_t20_wkts,max_t20_wkts],marker='x');\n",
    "plt.grid(axis='y');\n",
    "plt.title('Performance of Ballers in Terms of Wickets Taken')\n",
    "plt.legend(['ODI','Test','T20']);\n",
    "\n",
    "plt.text(-0.1, 30, 'min');\n",
    "plt.text(0.4, 400, 'ave');\n",
    "plt.text(0.9, 570, 'max');\n",
    "plt.text(1.4, 290, 'min');\n",
    "plt.text(1.9, 400, 'ave');\n",
    "plt.text(2.4, 820, 'max');\n",
    "plt.text(2.9, 50, 'min');\n",
    "plt.text(3.4, 50, 'ave');\n",
    "plt.text(3.9, 150, 'max');"
   ]
  },
  {
   "cell_type": "code",
   "execution_count": 53,
   "metadata": {},
   "outputs": [
    {
     "data": {
      "text/plain": [
       "0"
      ]
     },
     "execution_count": 53,
     "metadata": {},
     "output_type": "execute_result"
    }
   ],
   "source": [
    "min_odi_wkts"
   ]
  },
  {
   "cell_type": "code",
   "execution_count": 54,
   "metadata": {},
   "outputs": [
    {
     "data": {
      "image/png": "[encoded data removed]",
      "text/plain": [
       "<Figure size 432x288 with 1 Axes>"
      ]
     },
     "metadata": {
      "needs_background": "light"
     },
     "output_type": "display_data"
    }
   ],
   "source": [
    "ballers_data[test_filter][['Ave','SR']].boxplot();"
   ]
  },
  {
   "cell_type": "code",
   "execution_count": 55,
   "metadata": {},
   "outputs": [
    {
     "data": {
      "image/png": "[encoded data removed]",
      "text/plain": [
       "<Figure size 432x288 with 1 Axes>"
      ]
     },
     "metadata": {
      "needs_background": "light"
     },
     "output_type": "display_data"
    }
   ],
   "source": [
    "ballers_data[t20_filter][['Ave','SR']].boxplot();"
   ]
  },
  {
   "cell_type": "code",
   "execution_count": 56,
   "metadata": {},
   "outputs": [
    {
     "data": {
      "text/plain": [
       "Index(['10', '4', '5', 'Ave', 'BBI', 'BBM', 'Balls', 'Econ', 'Inns', 'Mat',\n",
       "       'Mdns', 'Overs', 'Player', 'Region', 'Runs', 'SR', 'Span', 'Wkts',\n",
       "       'match_type'],\n",
       "      dtype='object')"
      ]
     },
     "execution_count": 56,
     "metadata": {},
     "output_type": "execute_result"
    }
   ],
   "source": [
    "ballers_data.columns"
   ]
  },
  {
   "cell_type": "code",
   "execution_count": 57,
   "metadata": {},
   "outputs": [
    {
     "data": {
      "text/html": [
       "<div>\n",
       "<style scoped>\n",
       "    .dataframe tbody tr th:only-of-type {\n",
       "        vertical-align: middle;\n",
       "    }\n",
       "\n",
       "    .dataframe tbody tr th {\n",
       "        vertical-align: top;\n",
       "    }\n",
       "\n",
       "    .dataframe thead th {\n",
       "        text-align: right;\n",
       "    }\n",
       "</style>\n",
       "<table border=\"1\" class=\"dataframe\">\n",
       "  <thead>\n",
       "    <tr style=\"text-align: right;\">\n",
       "      <th></th>\n",
       "      <th>Player</th>\n",
       "      <th>Mat</th>\n",
       "      <th>Runs</th>\n",
       "    </tr>\n",
       "  </thead>\n",
       "  <tbody>\n",
       "    <tr>\n",
       "      <th>4377</th>\n",
       "      <td>SR TENDULKAR</td>\n",
       "      <td>664</td>\n",
       "      <td>34357</td>\n",
       "    </tr>\n",
       "    <tr>\n",
       "      <th>1196</th>\n",
       "      <td>DPMD JAYAWARDENE</td>\n",
       "      <td>652</td>\n",
       "      <td>25957</td>\n",
       "    </tr>\n",
       "    <tr>\n",
       "      <th>2493</th>\n",
       "      <td>KC SANGAKKARA</td>\n",
       "      <td>594</td>\n",
       "      <td>28016</td>\n",
       "    </tr>\n",
       "    <tr>\n",
       "      <th>4402</th>\n",
       "      <td>ST JAYASURIYA</td>\n",
       "      <td>586</td>\n",
       "      <td>21032</td>\n",
       "    </tr>\n",
       "    <tr>\n",
       "      <th>3950</th>\n",
       "      <td>RT PONTING</td>\n",
       "      <td>560</td>\n",
       "      <td>27483</td>\n",
       "    </tr>\n",
       "    <tr>\n",
       "      <th>3115</th>\n",
       "      <td>MS DHONI</td>\n",
       "      <td>538</td>\n",
       "      <td>17266</td>\n",
       "    </tr>\n",
       "    <tr>\n",
       "      <th>4225</th>\n",
       "      <td>SHAHID AFRIDI</td>\n",
       "      <td>524</td>\n",
       "      <td>11196</td>\n",
       "    </tr>\n",
       "    <tr>\n",
       "      <th>2248</th>\n",
       "      <td>JH KALLIS</td>\n",
       "      <td>519</td>\n",
       "      <td>25534</td>\n",
       "    </tr>\n",
       "    <tr>\n",
       "      <th>3624</th>\n",
       "      <td>R DRAVID</td>\n",
       "      <td>509</td>\n",
       "      <td>24208</td>\n",
       "    </tr>\n",
       "    <tr>\n",
       "      <th>2010</th>\n",
       "      <td>INZAMAM-UL-HAQ</td>\n",
       "      <td>499</td>\n",
       "      <td>20580</td>\n",
       "    </tr>\n",
       "  </tbody>\n",
       "</table>\n",
       "</div>"
      ],
      "text/plain": [
       "                Player  Mat   Runs\n",
       "4377      SR TENDULKAR  664  34357\n",
       "1196  DPMD JAYAWARDENE  652  25957\n",
       "2493     KC SANGAKKARA  594  28016\n",
       "4402     ST JAYASURIYA  586  21032\n",
       "3950        RT PONTING  560  27483\n",
       "3115          MS DHONI  538  17266\n",
       "4225     SHAHID AFRIDI  524  11196\n",
       "2248         JH KALLIS  519  25534\n",
       "3624          R DRAVID  509  24208\n",
       "2010    INZAMAM-UL-HAQ  499  20580"
      ]
     },
     "execution_count": 57,
     "metadata": {},
     "output_type": "execute_result"
    }
   ],
   "source": [
    "data = batters_data.groupby(['Player']).aggregate({'Mat':'sum','Runs':'sum'})\n",
    "data.reset_index(inplace=True)\n",
    "data.sort_values(by='Mat',inplace=True,ascending=False)\n",
    "data.head(10)"
   ]
  },
  {
   "cell_type": "code",
   "execution_count": 58,
   "metadata": {},
   "outputs": [
    {
     "data": {
      "text/html": [
       "<div>\n",
       "<style scoped>\n",
       "    .dataframe tbody tr th:only-of-type {\n",
       "        vertical-align: middle;\n",
       "    }\n",
       "\n",
       "    .dataframe tbody tr th {\n",
       "        vertical-align: top;\n",
       "    }\n",
       "\n",
       "    .dataframe thead th {\n",
       "        text-align: right;\n",
       "    }\n",
       "</style>\n",
       "<table border=\"1\" class=\"dataframe\">\n",
       "  <thead>\n",
       "    <tr style=\"text-align: right;\">\n",
       "      <th></th>\n",
       "      <th>Player</th>\n",
       "      <th>Wkts</th>\n",
       "    </tr>\n",
       "  </thead>\n",
       "  <tbody>\n",
       "    <tr>\n",
       "      <th>1828</th>\n",
       "      <td>M MURALITHARAN</td>\n",
       "      <td>1347</td>\n",
       "    </tr>\n",
       "    <tr>\n",
       "      <th>3026</th>\n",
       "      <td>SK WARNE</td>\n",
       "      <td>1001</td>\n",
       "    </tr>\n",
       "    <tr>\n",
       "      <th>24</th>\n",
       "      <td>A KUMBLE</td>\n",
       "      <td>956</td>\n",
       "    </tr>\n",
       "    <tr>\n",
       "      <th>1051</th>\n",
       "      <td>GD MCGRATH</td>\n",
       "      <td>949</td>\n",
       "    </tr>\n",
       "    <tr>\n",
       "      <th>3373</th>\n",
       "      <td>WASIM AKRAM</td>\n",
       "      <td>916</td>\n",
       "    </tr>\n",
       "    <tr>\n",
       "      <th>1501</th>\n",
       "      <td>JM ANDERSON</td>\n",
       "      <td>864</td>\n",
       "    </tr>\n",
       "    <tr>\n",
       "      <th>3045</th>\n",
       "      <td>SM POLLOCK</td>\n",
       "      <td>829</td>\n",
       "    </tr>\n",
       "    <tr>\n",
       "      <th>3365</th>\n",
       "      <td>WAQAR YOUNIS</td>\n",
       "      <td>789</td>\n",
       "    </tr>\n",
       "    <tr>\n",
       "      <th>3400</th>\n",
       "      <td>WPUJC VAAS</td>\n",
       "      <td>761</td>\n",
       "    </tr>\n",
       "    <tr>\n",
       "      <th>568</th>\n",
       "      <td>CA WALSH</td>\n",
       "      <td>746</td>\n",
       "    </tr>\n",
       "  </tbody>\n",
       "</table>\n",
       "</div>"
      ],
      "text/plain": [
       "              Player  Wkts\n",
       "1828  M MURALITHARAN  1347\n",
       "3026        SK WARNE  1001\n",
       "24          A KUMBLE   956\n",
       "1051      GD MCGRATH   949\n",
       "3373     WASIM AKRAM   916\n",
       "1501     JM ANDERSON   864\n",
       "3045      SM POLLOCK   829\n",
       "3365    WAQAR YOUNIS   789\n",
       "3400      WPUJC VAAS   761\n",
       "568         CA WALSH   746"
      ]
     },
     "execution_count": 58,
     "metadata": {},
     "output_type": "execute_result"
    }
   ],
   "source": [
    "data = ballers_data.groupby(['Player']).aggregate({'Wkts':'sum'})\n",
    "data.reset_index(inplace=True)\n",
    "data.sort_values(by='Wkts',inplace=True,ascending=False)\n",
    "data.head(10)"
   ]
  },
  {
   "cell_type": "code",
   "execution_count": 59,
   "metadata": {},
   "outputs": [
    {
     "name": "stdout",
     "output_type": "stream",
     "text": [
      "Pearson Correlation Between Runs and Innings: 0.9291668105423827\n",
      "Pearson Correlation Between Average and Strike Rate (ODI): 0.4226491761518426\n",
      "Pearson Correlation Between Average and Strike Rate (T20): 0.5710723639930254\n",
      "Pearson Correlation Between Average and Strike Rate (Test): nan\n"
     ]
    },
    {
     "name": "stderr",
     "output_type": "stream",
     "text": [
      "/home/naqi/anaconda3/lib/python3.7/site-packages/scipy/stats/stats.py:3010: RuntimeWarning: invalid value encountered in double_scalars\n",
      "  r = r_num / r_den\n"
     ]
    }
   ],
   "source": [
    "print('Pearson Correlation Between Runs and Innings:',sp.stats.pearsonr(batters_data.Runs,batters_data.Inns)[0])\n",
    "print('Pearson Correlation Between Average and Strike Rate (ODI):',sp.stats.pearsonr(batters_data[batters_data['match_type']=='odi'].fillna(0).Ave,batters_data[batters_data['match_type']=='odi'].fillna(0).SR)[0])\n",
    "print('Pearson Correlation Between Average and Strike Rate (T20):',sp.stats.pearsonr(batters_data[batters_data['match_type']=='t20'].fillna(0).Ave,batters_data[batters_data['match_type']=='t20'].fillna(0).SR)[0])\n",
    "print('Pearson Correlation Between Average and Strike Rate (Test):',sp.stats.pearsonr(batters_data[batters_data['match_type']=='test'].fillna(0).Ave,batters_data[batters_data['match_type']=='test'].fillna(0).SR)[0]);"
   ]
  },
  {
   "cell_type": "code",
   "execution_count": 60,
   "metadata": {},
   "outputs": [
    {
     "data": {
      "text/html": [
       "<div>\n",
       "<style scoped>\n",
       "    .dataframe tbody tr th:only-of-type {\n",
       "        vertical-align: middle;\n",
       "    }\n",
       "\n",
       "    .dataframe tbody tr th {\n",
       "        vertical-align: top;\n",
       "    }\n",
       "\n",
       "    .dataframe thead th {\n",
       "        text-align: right;\n",
       "    }\n",
       "</style>\n",
       "<table border=\"1\" class=\"dataframe\">\n",
       "  <thead>\n",
       "    <tr style=\"text-align: right;\">\n",
       "      <th></th>\n",
       "      <th>0</th>\n",
       "      <th>100</th>\n",
       "      <th>4s</th>\n",
       "      <th>50</th>\n",
       "      <th>6s</th>\n",
       "      <th>Ave</th>\n",
       "      <th>BF</th>\n",
       "      <th>HS</th>\n",
       "      <th>Inns</th>\n",
       "      <th>Mat</th>\n",
       "      <th>NO</th>\n",
       "      <th>Runs</th>\n",
       "      <th>SR</th>\n",
       "      <th>Percentage of 100</th>\n",
       "      <th>Percentage of 50</th>\n",
       "    </tr>\n",
       "  </thead>\n",
       "  <tbody>\n",
       "    <tr>\n",
       "      <th>0</th>\n",
       "      <td>1.000000</td>\n",
       "      <td>0.465916</td>\n",
       "      <td>0.007557</td>\n",
       "      <td>0.573591</td>\n",
       "      <td>0.010548</td>\n",
       "      <td>0.213983</td>\n",
       "      <td>0.421063</td>\n",
       "      <td>0.488942</td>\n",
       "      <td>0.809787</td>\n",
       "      <td>0.746762</td>\n",
       "      <td>0.715413</td>\n",
       "      <td>0.629175</td>\n",
       "      <td>-0.115514</td>\n",
       "      <td>0.262409</td>\n",
       "      <td>0.214673</td>\n",
       "    </tr>\n",
       "    <tr>\n",
       "      <th>100</th>\n",
       "      <td>0.465916</td>\n",
       "      <td>1.000000</td>\n",
       "      <td>-0.033851</td>\n",
       "      <td>0.818850</td>\n",
       "      <td>-0.027984</td>\n",
       "      <td>0.439709</td>\n",
       "      <td>0.400225</td>\n",
       "      <td>0.668148</td>\n",
       "      <td>0.732375</td>\n",
       "      <td>0.547218</td>\n",
       "      <td>0.367336</td>\n",
       "      <td>0.899282</td>\n",
       "      <td>-0.099683</td>\n",
       "      <td>0.566414</td>\n",
       "      <td>0.220363</td>\n",
       "    </tr>\n",
       "    <tr>\n",
       "      <th>4s</th>\n",
       "      <td>0.007557</td>\n",
       "      <td>-0.033851</td>\n",
       "      <td>1.000000</td>\n",
       "      <td>0.045102</td>\n",
       "      <td>0.883090</td>\n",
       "      <td>0.123287</td>\n",
       "      <td>0.050882</td>\n",
       "      <td>0.080736</td>\n",
       "      <td>0.063362</td>\n",
       "      <td>0.085468</td>\n",
       "      <td>0.051864</td>\n",
       "      <td>0.039765</td>\n",
       "      <td>0.337118</td>\n",
       "      <td>-0.028685</td>\n",
       "      <td>0.137683</td>\n",
       "    </tr>\n",
       "    <tr>\n",
       "      <th>50</th>\n",
       "      <td>0.573591</td>\n",
       "      <td>0.818850</td>\n",
       "      <td>0.045102</td>\n",
       "      <td>1.000000</td>\n",
       "      <td>0.039308</td>\n",
       "      <td>0.477266</td>\n",
       "      <td>0.717885</td>\n",
       "      <td>0.669182</td>\n",
       "      <td>0.892867</td>\n",
       "      <td>0.771779</td>\n",
       "      <td>0.533983</td>\n",
       "      <td>0.969770</td>\n",
       "      <td>-0.026828</td>\n",
       "      <td>0.434388</td>\n",
       "      <td>0.405389</td>\n",
       "    </tr>\n",
       "    <tr>\n",
       "      <th>6s</th>\n",
       "      <td>0.010548</td>\n",
       "      <td>-0.027984</td>\n",
       "      <td>0.883090</td>\n",
       "      <td>0.039308</td>\n",
       "      <td>1.000000</td>\n",
       "      <td>0.122392</td>\n",
       "      <td>0.046237</td>\n",
       "      <td>0.081845</td>\n",
       "      <td>0.063915</td>\n",
       "      <td>0.088157</td>\n",
       "      <td>0.065658</td>\n",
       "      <td>0.037815</td>\n",
       "      <td>0.343510</td>\n",
       "      <td>-0.007563</td>\n",
       "      <td>0.124180</td>\n",
       "    </tr>\n",
       "    <tr>\n",
       "      <th>Ave</th>\n",
       "      <td>0.213983</td>\n",
       "      <td>0.439709</td>\n",
       "      <td>0.123287</td>\n",
       "      <td>0.477266</td>\n",
       "      <td>0.122392</td>\n",
       "      <td>1.000000</td>\n",
       "      <td>0.260950</td>\n",
       "      <td>0.758260</td>\n",
       "      <td>0.421283</td>\n",
       "      <td>0.314384</td>\n",
       "      <td>0.213695</td>\n",
       "      <td>0.491333</td>\n",
       "      <td>0.073547</td>\n",
       "      <td>0.579440</td>\n",
       "      <td>0.589696</td>\n",
       "    </tr>\n",
       "    <tr>\n",
       "      <th>BF</th>\n",
       "      <td>0.421063</td>\n",
       "      <td>0.400225</td>\n",
       "      <td>0.050882</td>\n",
       "      <td>0.717885</td>\n",
       "      <td>0.046237</td>\n",
       "      <td>0.260950</td>\n",
       "      <td>1.000000</td>\n",
       "      <td>0.304054</td>\n",
       "      <td>0.687681</td>\n",
       "      <td>0.790835</td>\n",
       "      <td>0.519084</td>\n",
       "      <td>0.649962</td>\n",
       "      <td>0.186759</td>\n",
       "      <td>0.171591</td>\n",
       "      <td>0.249406</td>\n",
       "    </tr>\n",
       "    <tr>\n",
       "      <th>HS</th>\n",
       "      <td>0.488942</td>\n",
       "      <td>0.668148</td>\n",
       "      <td>0.080736</td>\n",
       "      <td>0.669182</td>\n",
       "      <td>0.081845</td>\n",
       "      <td>0.758260</td>\n",
       "      <td>0.304054</td>\n",
       "      <td>1.000000</td>\n",
       "      <td>0.672566</td>\n",
       "      <td>0.494074</td>\n",
       "      <td>0.329751</td>\n",
       "      <td>0.724065</td>\n",
       "      <td>-0.101134</td>\n",
       "      <td>0.718973</td>\n",
       "      <td>0.577631</td>\n",
       "    </tr>\n",
       "    <tr>\n",
       "      <th>Inns</th>\n",
       "      <td>0.809787</td>\n",
       "      <td>0.732375</td>\n",
       "      <td>0.063362</td>\n",
       "      <td>0.892867</td>\n",
       "      <td>0.063915</td>\n",
       "      <td>0.421283</td>\n",
       "      <td>0.687681</td>\n",
       "      <td>0.672566</td>\n",
       "      <td>1.000000</td>\n",
       "      <td>0.919717</td>\n",
       "      <td>0.764192</td>\n",
       "      <td>0.929167</td>\n",
       "      <td>-0.028550</td>\n",
       "      <td>0.396334</td>\n",
       "      <td>0.335874</td>\n",
       "    </tr>\n",
       "    <tr>\n",
       "      <th>Mat</th>\n",
       "      <td>0.746762</td>\n",
       "      <td>0.547218</td>\n",
       "      <td>0.085468</td>\n",
       "      <td>0.771779</td>\n",
       "      <td>0.088157</td>\n",
       "      <td>0.314384</td>\n",
       "      <td>0.790835</td>\n",
       "      <td>0.494074</td>\n",
       "      <td>0.919717</td>\n",
       "      <td>1.000000</td>\n",
       "      <td>0.837722</td>\n",
       "      <td>0.787984</td>\n",
       "      <td>0.123390</td>\n",
       "      <td>0.258321</td>\n",
       "      <td>0.261218</td>\n",
       "    </tr>\n",
       "    <tr>\n",
       "      <th>NO</th>\n",
       "      <td>0.715413</td>\n",
       "      <td>0.367336</td>\n",
       "      <td>0.051864</td>\n",
       "      <td>0.533983</td>\n",
       "      <td>0.065658</td>\n",
       "      <td>0.213695</td>\n",
       "      <td>0.519084</td>\n",
       "      <td>0.329751</td>\n",
       "      <td>0.764192</td>\n",
       "      <td>0.837722</td>\n",
       "      <td>1.000000</td>\n",
       "      <td>0.571178</td>\n",
       "      <td>0.050663</td>\n",
       "      <td>0.136678</td>\n",
       "      <td>0.132499</td>\n",
       "    </tr>\n",
       "    <tr>\n",
       "      <th>Runs</th>\n",
       "      <td>0.629175</td>\n",
       "      <td>0.899282</td>\n",
       "      <td>0.039765</td>\n",
       "      <td>0.969770</td>\n",
       "      <td>0.037815</td>\n",
       "      <td>0.491333</td>\n",
       "      <td>0.649962</td>\n",
       "      <td>0.724065</td>\n",
       "      <td>0.929167</td>\n",
       "      <td>0.787984</td>\n",
       "      <td>0.571178</td>\n",
       "      <td>1.000000</td>\n",
       "      <td>-0.046291</td>\n",
       "      <td>0.490502</td>\n",
       "      <td>0.348178</td>\n",
       "    </tr>\n",
       "    <tr>\n",
       "      <th>SR</th>\n",
       "      <td>-0.115514</td>\n",
       "      <td>-0.099683</td>\n",
       "      <td>0.337118</td>\n",
       "      <td>-0.026828</td>\n",
       "      <td>0.343510</td>\n",
       "      <td>0.073547</td>\n",
       "      <td>0.186759</td>\n",
       "      <td>-0.101134</td>\n",
       "      <td>-0.028550</td>\n",
       "      <td>0.123390</td>\n",
       "      <td>0.050663</td>\n",
       "      <td>-0.046291</td>\n",
       "      <td>1.000000</td>\n",
       "      <td>-0.146109</td>\n",
       "      <td>0.002364</td>\n",
       "    </tr>\n",
       "    <tr>\n",
       "      <th>Percentage of 100</th>\n",
       "      <td>0.262409</td>\n",
       "      <td>0.566414</td>\n",
       "      <td>-0.028685</td>\n",
       "      <td>0.434388</td>\n",
       "      <td>-0.007563</td>\n",
       "      <td>0.579440</td>\n",
       "      <td>0.171591</td>\n",
       "      <td>0.718973</td>\n",
       "      <td>0.396334</td>\n",
       "      <td>0.258321</td>\n",
       "      <td>0.136678</td>\n",
       "      <td>0.490502</td>\n",
       "      <td>-0.146109</td>\n",
       "      <td>1.000000</td>\n",
       "      <td>0.229711</td>\n",
       "    </tr>\n",
       "    <tr>\n",
       "      <th>Percentage of 50</th>\n",
       "      <td>0.214673</td>\n",
       "      <td>0.220363</td>\n",
       "      <td>0.137683</td>\n",
       "      <td>0.405389</td>\n",
       "      <td>0.124180</td>\n",
       "      <td>0.589696</td>\n",
       "      <td>0.249406</td>\n",
       "      <td>0.577631</td>\n",
       "      <td>0.335874</td>\n",
       "      <td>0.261218</td>\n",
       "      <td>0.132499</td>\n",
       "      <td>0.348178</td>\n",
       "      <td>0.002364</td>\n",
       "      <td>0.229711</td>\n",
       "      <td>1.000000</td>\n",
       "    </tr>\n",
       "  </tbody>\n",
       "</table>\n",
       "</div>"
      ],
      "text/plain": [
       "                          0       100        4s        50        6s       Ave  \\\n",
       "0                  1.000000  0.465916  0.007557  0.573591  0.010548  0.213983   \n",
       "100                0.465916  1.000000 -0.033851  0.818850 -0.027984  0.439709   \n",
       "4s                 0.007557 -0.033851  1.000000  0.045102  0.883090  0.123287   \n",
       "50                 0.573591  0.818850  0.045102  1.000000  0.039308  0.477266   \n",
       "6s                 0.010548 -0.027984  0.883090  0.039308  1.000000  0.122392   \n",
       "Ave                0.213983  0.439709  0.123287  0.477266  0.122392  1.000000   \n",
       "BF                 0.421063  0.400225  0.050882  0.717885  0.046237  0.260950   \n",
       "HS                 0.488942  0.668148  0.080736  0.669182  0.081845  0.758260   \n",
       "Inns               0.809787  0.732375  0.063362  0.892867  0.063915  0.421283   \n",
       "Mat                0.746762  0.547218  0.085468  0.771779  0.088157  0.314384   \n",
       "NO                 0.715413  0.367336  0.051864  0.533983  0.065658  0.213695   \n",
       "Runs               0.629175  0.899282  0.039765  0.969770  0.037815  0.491333   \n",
       "SR                -0.115514 -0.099683  0.337118 -0.026828  0.343510  0.073547   \n",
       "Percentage of 100  0.262409  0.566414 -0.028685  0.434388 -0.007563  0.579440   \n",
       "Percentage of 50   0.214673  0.220363  0.137683  0.405389  0.124180  0.589696   \n",
       "\n",
       "                         BF        HS      Inns       Mat        NO      Runs  \\\n",
       "0                  0.421063  0.488942  0.809787  0.746762  0.715413  0.629175   \n",
       "100                0.400225  0.668148  0.732375  0.547218  0.367336  0.899282   \n",
       "4s                 0.050882  0.080736  0.063362  0.085468  0.051864  0.039765   \n",
       "50                 0.717885  0.669182  0.892867  0.771779  0.533983  0.969770   \n",
       "6s                 0.046237  0.081845  0.063915  0.088157  0.065658  0.037815   \n",
       "Ave                0.260950  0.758260  0.421283  0.314384  0.213695  0.491333   \n",
       "BF                 1.000000  0.304054  0.687681  0.790835  0.519084  0.649962   \n",
       "HS                 0.304054  1.000000  0.672566  0.494074  0.329751  0.724065   \n",
       "Inns               0.687681  0.672566  1.000000  0.919717  0.764192  0.929167   \n",
       "Mat                0.790835  0.494074  0.919717  1.000000  0.837722  0.787984   \n",
       "NO                 0.519084  0.329751  0.764192  0.837722  1.000000  0.571178   \n",
       "Runs               0.649962  0.724065  0.929167  0.787984  0.571178  1.000000   \n",
       "SR                 0.186759 -0.101134 -0.028550  0.123390  0.050663 -0.046291   \n",
       "Percentage of 100  0.171591  0.718973  0.396334  0.258321  0.136678  0.490502   \n",
       "Percentage of 50   0.249406  0.577631  0.335874  0.261218  0.132499  0.348178   \n",
       "\n",
       "                         SR  Percentage of 100  Percentage of 50  \n",
       "0                 -0.115514           0.262409          0.214673  \n",
       "100               -0.099683           0.566414          0.220363  \n",
       "4s                 0.337118          -0.028685          0.137683  \n",
       "50                -0.026828           0.434388          0.405389  \n",
       "6s                 0.343510          -0.007563          0.124180  \n",
       "Ave                0.073547           0.579440          0.589696  \n",
       "BF                 0.186759           0.171591          0.249406  \n",
       "HS                -0.101134           0.718973          0.577631  \n",
       "Inns              -0.028550           0.396334          0.335874  \n",
       "Mat                0.123390           0.258321          0.261218  \n",
       "NO                 0.050663           0.136678          0.132499  \n",
       "Runs              -0.046291           0.490502          0.348178  \n",
       "SR                 1.000000          -0.146109          0.002364  \n",
       "Percentage of 100 -0.146109           1.000000          0.229711  \n",
       "Percentage of 50   0.002364           0.229711          1.000000  "
      ]
     },
     "execution_count": 60,
     "metadata": {},
     "output_type": "execute_result"
    }
   ],
   "source": [
    "batters_data.corr()"
   ]
  },
  {
   "cell_type": "code",
   "execution_count": 61,
   "metadata": {},
   "outputs": [],
   "source": [
    "X = batters_data[['Mat']]\n",
    "y = batters_data[['100']]"
   ]
  },
  {
   "cell_type": "code",
   "execution_count": 62,
   "metadata": {},
   "outputs": [],
   "source": [
    "clf = LinearRegression()\n",
    "clf.fit(X,y);\n",
    "y_pred = clf.predict(X)"
   ]
  },
  {
   "cell_type": "code",
   "execution_count": 63,
   "metadata": {},
   "outputs": [
    {
     "data": {
      "text/plain": [
       "(0, 100)"
      ]
     },
     "execution_count": 63,
     "metadata": {},
     "output_type": "execute_result"
    },
    {
     "data": {
      "image/png": "[encoded data removed]",
      "text/plain": [
       "<Figure size 432x288 with 1 Axes>"
      ]
     },
     "metadata": {
      "needs_background": "light"
     },
     "output_type": "display_data"
    }
   ],
   "source": [
    "plt.scatter(X,y,marker='.')\n",
    "plt.plot(X,y_pred,'r');\n",
    "plt.plot(X,X,'g');\n",
    "plt.legend(['Predicted','Baseline','Actual'])\n",
    "plt.xlabel('No. of Matches')\n",
    "plt.ylabel('No. of Centuries');\n",
    "plt.xlim(0,450)\n",
    "plt.ylim(0,100)"
   ]
  },
  {
   "cell_type": "code",
   "execution_count": 64,
   "metadata": {},
   "outputs": [
    {
     "name": "stdout",
     "output_type": "stream",
     "text": [
      "Coefficient of Determination: -0.2116321782947328\n"
     ]
    }
   ],
   "source": [
    "print('Coefficient of Determination:',clf.score(y,y_pred))"
   ]
  },
  {
   "cell_type": "code",
   "execution_count": 65,
   "metadata": {},
   "outputs": [
    {
     "name": "stdout",
     "output_type": "stream",
     "text": [
      "Regression Coefficient: 0.044404721651538734\n"
     ]
    }
   ],
   "source": [
    "print('Regression Coefficient:',clf.coef_[0][0])"
   ]
  },
  {
   "cell_type": "code",
   "execution_count": 66,
   "metadata": {},
   "outputs": [
    {
     "name": "stdout",
     "output_type": "stream",
     "text": [
      "Regression Intercept: -0.18505149613683192\n"
     ]
    }
   ],
   "source": [
    "print('Regression Intercept:',clf.intercept_[0])"
   ]
  },
  {
   "cell_type": "code",
   "execution_count": 67,
   "metadata": {},
   "outputs": [
    {
     "data": {
      "text/plain": [
       "0                                 7\n",
       "100                              25\n",
       "4s                                0\n",
       "50                               53\n",
       "6s                                0\n",
       "Ave                            53.5\n",
       "BF                             9473\n",
       "HS                              176\n",
       "Inns                            218\n",
       "Mat                             228\n",
       "NO                               39\n",
       "Player               AB DE VILLIERS\n",
       "Region                           SA\n",
       "Runs                           9577\n",
       "SR                           101.09\n",
       "Span                      2005-2018\n",
       "match_type                      odi\n",
       "Percentage of 100             0.261\n",
       "Percentage of 50              0.553\n",
       "Name: 16, dtype: object"
      ]
     },
     "execution_count": 67,
     "metadata": {},
     "output_type": "execute_result"
    }
   ],
   "source": [
    "batters_data.iloc[16]"
   ]
  },
  {
   "cell_type": "code",
   "execution_count": 68,
   "metadata": {},
   "outputs": [
    {
     "name": "stdout",
     "output_type": "stream",
     "text": [
      "Predicted Centuries: 9.939225040413998\n"
     ]
    }
   ],
   "source": [
    "print('Predicted Centuries:', clf.predict(np.array([[228]]))[0][0])"
   ]
  },
  {
   "cell_type": "code",
   "execution_count": 69,
   "metadata": {},
   "outputs": [
    {
     "data": {
      "text/html": [
       "<div>\n",
       "<style scoped>\n",
       "    .dataframe tbody tr th:only-of-type {\n",
       "        vertical-align: middle;\n",
       "    }\n",
       "\n",
       "    .dataframe tbody tr th {\n",
       "        vertical-align: top;\n",
       "    }\n",
       "\n",
       "    .dataframe thead th {\n",
       "        text-align: right;\n",
       "    }\n",
       "</style>\n",
       "<table border=\"1\" class=\"dataframe\">\n",
       "  <thead>\n",
       "    <tr style=\"text-align: right;\">\n",
       "      <th></th>\n",
       "      <th>10</th>\n",
       "      <th>4</th>\n",
       "      <th>5</th>\n",
       "      <th>Ave</th>\n",
       "      <th>Balls</th>\n",
       "      <th>Mat</th>\n",
       "      <th>Mdns</th>\n",
       "      <th>Overs</th>\n",
       "      <th>Runs</th>\n",
       "      <th>SR</th>\n",
       "      <th>Wkts</th>\n",
       "    </tr>\n",
       "  </thead>\n",
       "  <tbody>\n",
       "    <tr>\n",
       "      <th>10</th>\n",
       "      <td>1.000000</td>\n",
       "      <td>-0.020774</td>\n",
       "      <td>0.896792</td>\n",
       "      <td>0.014351</td>\n",
       "      <td>0.672984</td>\n",
       "      <td>0.113328</td>\n",
       "      <td>-0.015795</td>\n",
       "      <td>-0.023531</td>\n",
       "      <td>0.533460</td>\n",
       "      <td>0.093607</td>\n",
       "      <td>0.590397</td>\n",
       "    </tr>\n",
       "    <tr>\n",
       "      <th>4</th>\n",
       "      <td>-0.020774</td>\n",
       "      <td>1.000000</td>\n",
       "      <td>0.142326</td>\n",
       "      <td>0.086397</td>\n",
       "      <td>0.401496</td>\n",
       "      <td>0.469756</td>\n",
       "      <td>0.036110</td>\n",
       "      <td>0.052657</td>\n",
       "      <td>0.572447</td>\n",
       "      <td>0.130582</td>\n",
       "      <td>0.581860</td>\n",
       "    </tr>\n",
       "    <tr>\n",
       "      <th>5</th>\n",
       "      <td>0.896792</td>\n",
       "      <td>0.142326</td>\n",
       "      <td>1.000000</td>\n",
       "      <td>0.033597</td>\n",
       "      <td>0.864757</td>\n",
       "      <td>0.238460</td>\n",
       "      <td>-0.020511</td>\n",
       "      <td>-0.028893</td>\n",
       "      <td>0.741989</td>\n",
       "      <td>0.142323</td>\n",
       "      <td>0.799127</td>\n",
       "    </tr>\n",
       "    <tr>\n",
       "      <th>Ave</th>\n",
       "      <td>0.014351</td>\n",
       "      <td>0.086397</td>\n",
       "      <td>0.033597</td>\n",
       "      <td>1.000000</td>\n",
       "      <td>0.117008</td>\n",
       "      <td>0.125658</td>\n",
       "      <td>0.021202</td>\n",
       "      <td>0.060458</td>\n",
       "      <td>0.168064</td>\n",
       "      <td>0.939009</td>\n",
       "      <td>0.122298</td>\n",
       "    </tr>\n",
       "    <tr>\n",
       "      <th>Balls</th>\n",
       "      <td>0.672984</td>\n",
       "      <td>0.401496</td>\n",
       "      <td>0.864757</td>\n",
       "      <td>0.117008</td>\n",
       "      <td>1.000000</td>\n",
       "      <td>0.476480</td>\n",
       "      <td>-0.057926</td>\n",
       "      <td>-0.086295</td>\n",
       "      <td>0.955554</td>\n",
       "      <td>0.257420</td>\n",
       "      <td>0.957959</td>\n",
       "    </tr>\n",
       "    <tr>\n",
       "      <th>Mat</th>\n",
       "      <td>0.113328</td>\n",
       "      <td>0.469756</td>\n",
       "      <td>0.238460</td>\n",
       "      <td>0.125658</td>\n",
       "      <td>0.476480</td>\n",
       "      <td>1.000000</td>\n",
       "      <td>-0.002280</td>\n",
       "      <td>0.016316</td>\n",
       "      <td>0.587730</td>\n",
       "      <td>0.189196</td>\n",
       "      <td>0.542681</td>\n",
       "    </tr>\n",
       "    <tr>\n",
       "      <th>Mdns</th>\n",
       "      <td>-0.015795</td>\n",
       "      <td>0.036110</td>\n",
       "      <td>-0.020511</td>\n",
       "      <td>0.021202</td>\n",
       "      <td>-0.057926</td>\n",
       "      <td>-0.002280</td>\n",
       "      <td>1.000000</td>\n",
       "      <td>0.663604</td>\n",
       "      <td>0.005304</td>\n",
       "      <td>-0.020797</td>\n",
       "      <td>0.033094</td>\n",
       "    </tr>\n",
       "    <tr>\n",
       "      <th>Overs</th>\n",
       "      <td>-0.023531</td>\n",
       "      <td>0.052657</td>\n",
       "      <td>-0.028893</td>\n",
       "      <td>0.060458</td>\n",
       "      <td>-0.086295</td>\n",
       "      <td>0.016316</td>\n",
       "      <td>0.663604</td>\n",
       "      <td>1.000000</td>\n",
       "      <td>0.013480</td>\n",
       "      <td>-0.027778</td>\n",
       "      <td>0.050618</td>\n",
       "    </tr>\n",
       "    <tr>\n",
       "      <th>Runs</th>\n",
       "      <td>0.533460</td>\n",
       "      <td>0.572447</td>\n",
       "      <td>0.741989</td>\n",
       "      <td>0.168064</td>\n",
       "      <td>0.955554</td>\n",
       "      <td>0.587730</td>\n",
       "      <td>0.005304</td>\n",
       "      <td>0.013480</td>\n",
       "      <td>1.000000</td>\n",
       "      <td>0.289399</td>\n",
       "      <td>0.981355</td>\n",
       "    </tr>\n",
       "    <tr>\n",
       "      <th>SR</th>\n",
       "      <td>0.093607</td>\n",
       "      <td>0.130582</td>\n",
       "      <td>0.142323</td>\n",
       "      <td>0.939009</td>\n",
       "      <td>0.257420</td>\n",
       "      <td>0.189196</td>\n",
       "      <td>-0.020797</td>\n",
       "      <td>-0.027778</td>\n",
       "      <td>0.289399</td>\n",
       "      <td>1.000000</td>\n",
       "      <td>0.242073</td>\n",
       "    </tr>\n",
       "    <tr>\n",
       "      <th>Wkts</th>\n",
       "      <td>0.590397</td>\n",
       "      <td>0.581860</td>\n",
       "      <td>0.799127</td>\n",
       "      <td>0.122298</td>\n",
       "      <td>0.957959</td>\n",
       "      <td>0.542681</td>\n",
       "      <td>0.033094</td>\n",
       "      <td>0.050618</td>\n",
       "      <td>0.981355</td>\n",
       "      <td>0.242073</td>\n",
       "      <td>1.000000</td>\n",
       "    </tr>\n",
       "  </tbody>\n",
       "</table>\n",
       "</div>"
      ],
      "text/plain": [
       "             10         4         5       Ave     Balls       Mat      Mdns  \\\n",
       "10     1.000000 -0.020774  0.896792  0.014351  0.672984  0.113328 -0.015795   \n",
       "4     -0.020774  1.000000  0.142326  0.086397  0.401496  0.469756  0.036110   \n",
       "5      0.896792  0.142326  1.000000  0.033597  0.864757  0.238460 -0.020511   \n",
       "Ave    0.014351  0.086397  0.033597  1.000000  0.117008  0.125658  0.021202   \n",
       "Balls  0.672984  0.401496  0.864757  0.117008  1.000000  0.476480 -0.057926   \n",
       "Mat    0.113328  0.469756  0.238460  0.125658  0.476480  1.000000 -0.002280   \n",
       "Mdns  -0.015795  0.036110 -0.020511  0.021202 -0.057926 -0.002280  1.000000   \n",
       "Overs -0.023531  0.052657 -0.028893  0.060458 -0.086295  0.016316  0.663604   \n",
       "Runs   0.533460  0.572447  0.741989  0.168064  0.955554  0.587730  0.005304   \n",
       "SR     0.093607  0.130582  0.142323  0.939009  0.257420  0.189196 -0.020797   \n",
       "Wkts   0.590397  0.581860  0.799127  0.122298  0.957959  0.542681  0.033094   \n",
       "\n",
       "          Overs      Runs        SR      Wkts  \n",
       "10    -0.023531  0.533460  0.093607  0.590397  \n",
       "4      0.052657  0.572447  0.130582  0.581860  \n",
       "5     -0.028893  0.741989  0.142323  0.799127  \n",
       "Ave    0.060458  0.168064  0.939009  0.122298  \n",
       "Balls -0.086295  0.955554  0.257420  0.957959  \n",
       "Mat    0.016316  0.587730  0.189196  0.542681  \n",
       "Mdns   0.663604  0.005304 -0.020797  0.033094  \n",
       "Overs  1.000000  0.013480 -0.027778  0.050618  \n",
       "Runs   0.013480  1.000000  0.289399  0.981355  \n",
       "SR    -0.027778  0.289399  1.000000  0.242073  \n",
       "Wkts   0.050618  0.981355  0.242073  1.000000  "
      ]
     },
     "execution_count": 69,
     "metadata": {},
     "output_type": "execute_result"
    }
   ],
   "source": [
    "ballers_data.corr()"
   ]
  },
  {
   "cell_type": "code",
   "execution_count": 70,
   "metadata": {},
   "outputs": [],
   "source": [
    "X = ballers_data[['Mat']]\n",
    "y = ballers_data[['Wkts']]"
   ]
  },
  {
   "cell_type": "code",
   "execution_count": 71,
   "metadata": {},
   "outputs": [],
   "source": [
    "clf = LinearRegression()\n",
    "clf.fit(X,y);\n",
    "y_pred = clf.predict(X)"
   ]
  },
  {
   "cell_type": "code",
   "execution_count": 72,
   "metadata": {},
   "outputs": [
    {
     "data": {
      "text/plain": [
       "(0, 650)"
      ]
     },
     "execution_count": 72,
     "metadata": {},
     "output_type": "execute_result"
    },
    {
     "data": {
      "image/png": "[encoded data removed]",
      "text/plain": [
       "<Figure size 432x288 with 1 Axes>"
      ]
     },
     "metadata": {
      "needs_background": "light"
     },
     "output_type": "display_data"
    }
   ],
   "source": [
    "plt.scatter(X,y,marker='.')\n",
    "plt.plot(X,y_pred,'r');\n",
    "plt.plot(X,X,'g');\n",
    "plt.legend(['Predicted','Baseline','Actual'])\n",
    "plt.xlabel('No. of Matches')\n",
    "plt.ylabel('No. of Wickets');\n",
    "plt.xlim(0,450)\n",
    "plt.ylim(0,650)"
   ]
  },
  {
   "cell_type": "code",
   "execution_count": 73,
   "metadata": {},
   "outputs": [
    {
     "name": "stdout",
     "output_type": "stream",
     "text": [
      "Coefficient of Determination: -0.09331942461420217\n"
     ]
    }
   ],
   "source": [
    "print('Coefficient of Determination:',clf.score(y,y_pred))"
   ]
  },
  {
   "cell_type": "code",
   "execution_count": 74,
   "metadata": {},
   "outputs": [
    {
     "name": "stdout",
     "output_type": "stream",
     "text": [
      "Regression Coefficient: 0.6202603600895505\n"
     ]
    }
   ],
   "source": [
    "print('Regression Coefficient:',clf.coef_[0][0])"
   ]
  },
  {
   "cell_type": "code",
   "execution_count": 75,
   "metadata": {},
   "outputs": [
    {
     "name": "stdout",
     "output_type": "stream",
     "text": [
      "Regression Intercept: 2.076830098232122\n"
     ]
    }
   ],
   "source": [
    "print('Regression Intercept:',clf.intercept_[0])"
   ]
  },
  {
   "cell_type": "code",
   "execution_count": 76,
   "metadata": {},
   "outputs": [
    {
     "data": {
      "text/plain": [
       "10                     0\n",
       "4                      1\n",
       "5                      2\n",
       "Ave                19.44\n",
       "BBI                  5/6\n",
       "BBM                    0\n",
       "Balls                  0\n",
       "Econ                7.23\n",
       "Inns                  79\n",
       "Mat                   79\n",
       "Mdns                   1\n",
       "Overs              284.5\n",
       "Player        SL MALINGA\n",
       "Region                SL\n",
       "Runs                2061\n",
       "SR                  16.1\n",
       "Span           2006-2019\n",
       "Wkts                 106\n",
       "match_type           t20\n",
       "Name: 0, dtype: object"
      ]
     },
     "execution_count": 76,
     "metadata": {},
     "output_type": "execute_result"
    }
   ],
   "source": [
    "ballers_data.iloc[50]"
   ]
  },
  {
   "cell_type": "code",
   "execution_count": 77,
   "metadata": {},
   "outputs": [
    {
     "name": "stdout",
     "output_type": "stream",
     "text": [
      "Predicted Wickets: 51.077398545306615\n"
     ]
    }
   ],
   "source": [
    "print('Predicted Wickets:', clf.predict(np.array([[79]]))[0][0])"
   ]
  },
  {
   "cell_type": "code",
   "execution_count": 78,
   "metadata": {
    "scrolled": true
   },
   "outputs": [
    {
     "data": {
      "text/html": [
       "<div>\n",
       "<style scoped>\n",
       "    .dataframe tbody tr th:only-of-type {\n",
       "        vertical-align: middle;\n",
       "    }\n",
       "\n",
       "    .dataframe tbody tr th {\n",
       "        vertical-align: top;\n",
       "    }\n",
       "\n",
       "    .dataframe thead th {\n",
       "        text-align: right;\n",
       "    }\n",
       "</style>\n",
       "<table border=\"1\" class=\"dataframe\">\n",
       "  <thead>\n",
       "    <tr style=\"text-align: right;\">\n",
       "      <th></th>\n",
       "      <th>match_type</th>\n",
       "      <th>Ct</th>\n",
       "      <th>Ct Fi</th>\n",
       "      <th>Ct Wk</th>\n",
       "    </tr>\n",
       "  </thead>\n",
       "  <tbody>\n",
       "    <tr>\n",
       "      <th>0</th>\n",
       "      <td>odi</td>\n",
       "      <td>8265</td>\n",
       "      <td>2863</td>\n",
       "      <td>5402</td>\n",
       "    </tr>\n",
       "    <tr>\n",
       "      <th>1</th>\n",
       "      <td>t20</td>\n",
       "      <td>7526</td>\n",
       "      <td>6369</td>\n",
       "      <td>1157</td>\n",
       "    </tr>\n",
       "    <tr>\n",
       "      <th>2</th>\n",
       "      <td>test</td>\n",
       "      <td>42366</td>\n",
       "      <td>29833</td>\n",
       "      <td>12533</td>\n",
       "    </tr>\n",
       "  </tbody>\n",
       "</table>\n",
       "</div>"
      ],
      "text/plain": [
       "  match_type     Ct  Ct Fi  Ct Wk\n",
       "0        odi   8265   2863   5402\n",
       "1        t20   7526   6369   1157\n",
       "2       test  42366  29833  12533"
      ]
     },
     "execution_count": 78,
     "metadata": {},
     "output_type": "execute_result"
    }
   ],
   "source": [
    "grp = fielders_data.groupby(['match_type']).aggregate({'Ct':'sum','Ct Fi':'sum','Ct Wk':'sum'})\n",
    "grp.reset_index(inplace=True)\n",
    "grp"
   ]
  },
  {
   "cell_type": "code",
   "execution_count": 79,
   "metadata": {},
   "outputs": [
    {
     "data": {
      "text/html": [
       "<div>\n",
       "<style scoped>\n",
       "    .dataframe tbody tr th:only-of-type {\n",
       "        vertical-align: middle;\n",
       "    }\n",
       "\n",
       "    .dataframe tbody tr th {\n",
       "        vertical-align: top;\n",
       "    }\n",
       "\n",
       "    .dataframe thead th {\n",
       "        text-align: right;\n",
       "    }\n",
       "</style>\n",
       "<table border=\"1\" class=\"dataframe\">\n",
       "  <thead>\n",
       "    <tr style=\"text-align: right;\">\n",
       "      <th></th>\n",
       "      <th>odi</th>\n",
       "      <th>t20</th>\n",
       "      <th>test</th>\n",
       "    </tr>\n",
       "  </thead>\n",
       "  <tbody>\n",
       "    <tr>\n",
       "      <th>0</th>\n",
       "      <td>8265</td>\n",
       "      <td>7526</td>\n",
       "      <td>42366</td>\n",
       "    </tr>\n",
       "    <tr>\n",
       "      <th>1</th>\n",
       "      <td>2863</td>\n",
       "      <td>6369</td>\n",
       "      <td>29833</td>\n",
       "    </tr>\n",
       "    <tr>\n",
       "      <th>2</th>\n",
       "      <td>5402</td>\n",
       "      <td>1157</td>\n",
       "      <td>12533</td>\n",
       "    </tr>\n",
       "  </tbody>\n",
       "</table>\n",
       "</div>"
      ],
      "text/plain": [
       "    odi   t20   test\n",
       "0  8265  7526  42366\n",
       "1  2863  6369  29833\n",
       "2  5402  1157  12533"
      ]
     },
     "execution_count": 79,
     "metadata": {},
     "output_type": "execute_result"
    }
   ],
   "source": [
    "grpt = grp.transpose()\n",
    "grpt.columns = grpt.iloc[0,:]\n",
    "grpt.index = range(4)\n",
    "grpt.drop(index=0,inplace=True)\n",
    "grpt.index = range(3)\n",
    "grpt.columns = ['odi','t20','test']\n",
    "grpt"
   ]
  },
  {
   "cell_type": "code",
   "execution_count": 80,
   "metadata": {},
   "outputs": [
    {
     "data": {
      "image/png": "[encoded data removed]",
      "text/plain": [
       "<Figure size 432x288 with 3 Axes>"
      ]
     },
     "metadata": {},
     "output_type": "display_data"
    }
   ],
   "source": [
    "ax = plt.subplot(2,2,1)\n",
    "ax.pie(grpt.iloc[:,0],labels=['Total','Fiedlers','Wicket Keeprs'])\n",
    "ax.set_title('Catches in ODI')\n",
    "\n",
    "ax = plt.subplot(2,2,2)\n",
    "ax.pie(grpt.iloc[:,1],labels=['Total','Fiedlers','Wicket Keeprs'])\n",
    "ax.set_title('Catches in T20')\n",
    "\n",
    "ax = plt.subplot(2,2,3)\n",
    "ax.pie(grpt.iloc[:,2],labels=['Total','Fiedlers','Wicket Keeprs'])\n",
    "ax.set_title('Catches in Test')\n",
    "\n",
    "plt.tight_layout()"
   ]
  },
  {
   "cell_type": "code",
   "execution_count": 81,
   "metadata": {
    "scrolled": true
   },
   "outputs": [
    {
     "name": "stdout",
     "output_type": "stream",
     "text": [
      "batting:\n",
      "Index(['0', '100', '4s', '50', '6s', 'Ave', 'BF', 'HS', 'Inns', 'Mat', 'NO',\n",
      "       'Player', 'Region', 'Runs', 'SR', 'Span', 'match_type',\n",
      "       'Percentage of 100', 'Percentage of 50'],\n",
      "      dtype='object')\n",
      "\n",
      "balling:\n",
      "Index(['10', '4', '5', 'Ave', 'BBI', 'BBM', 'Balls', 'Econ', 'Inns', 'Mat',\n",
      "       'Mdns', 'Overs', 'Player', 'Region', 'Runs', 'SR', 'Span', 'Wkts',\n",
      "       'match_type'],\n",
      "      dtype='object')\n",
      "\n",
      "fielding:\n",
      "Index(['Ct', 'Ct Fi', 'Ct Wk', 'D/I', 'Dis', 'Inns', 'MD', 'Mat', 'Player',\n",
      "       'Region', 'Span', 'St', 'match_type'],\n",
      "      dtype='object')\n"
     ]
    }
   ],
   "source": [
    "print('batting:')\n",
    "print(batters_data.columns)\n",
    "\n",
    "print()\n",
    "print('balling:')\n",
    "print(ballers_data.columns)\n",
    "\n",
    "print()\n",
    "print('fielding:')\n",
    "print(fielders_data.columns)"
   ]
  },
  {
   "cell_type": "code",
   "execution_count": null,
   "metadata": {},
   "outputs": [],
   "source": []
  },
  {
   "cell_type": "code",
   "execution_count": null,
   "metadata": {},
   "outputs": [],
   "source": []
  },
  {
   "cell_type": "code",
   "execution_count": 82,
   "metadata": {},
   "outputs": [],
   "source": [
    " from sklearn.feature_selection import VarianceThreshold"
   ]
  },
  {
   "cell_type": "code",
   "execution_count": 83,
   "metadata": {},
   "outputs": [
    {
     "data": {
      "text/html": [
       "<div>\n",
       "<style scoped>\n",
       "    .dataframe tbody tr th:only-of-type {\n",
       "        vertical-align: middle;\n",
       "    }\n",
       "\n",
       "    .dataframe tbody tr th {\n",
       "        vertical-align: top;\n",
       "    }\n",
       "\n",
       "    .dataframe thead th {\n",
       "        text-align: right;\n",
       "    }\n",
       "</style>\n",
       "<table border=\"1\" class=\"dataframe\">\n",
       "  <thead>\n",
       "    <tr style=\"text-align: right;\">\n",
       "      <th></th>\n",
       "      <th>0</th>\n",
       "      <th>100</th>\n",
       "      <th>4s</th>\n",
       "      <th>50</th>\n",
       "      <th>6s</th>\n",
       "      <th>Ave</th>\n",
       "      <th>BF</th>\n",
       "      <th>HS</th>\n",
       "      <th>Inns</th>\n",
       "      <th>Mat</th>\n",
       "      <th>NO</th>\n",
       "      <th>Player</th>\n",
       "      <th>Region</th>\n",
       "      <th>Runs</th>\n",
       "      <th>SR</th>\n",
       "      <th>Span</th>\n",
       "      <th>match_type</th>\n",
       "      <th>Percentage of 100</th>\n",
       "      <th>Percentage of 50</th>\n",
       "    </tr>\n",
       "  </thead>\n",
       "  <tbody>\n",
       "    <tr>\n",
       "      <th>0</th>\n",
       "      <td>20</td>\n",
       "      <td>49</td>\n",
       "      <td>0</td>\n",
       "      <td>96</td>\n",
       "      <td>0</td>\n",
       "      <td>44.83</td>\n",
       "      <td>21367</td>\n",
       "      <td>200</td>\n",
       "      <td>452</td>\n",
       "      <td>463</td>\n",
       "      <td>41</td>\n",
       "      <td>SR TENDULKAR</td>\n",
       "      <td>INDIA</td>\n",
       "      <td>18426</td>\n",
       "      <td>86.23</td>\n",
       "      <td>1989-2012</td>\n",
       "      <td>odi</td>\n",
       "      <td>0.266</td>\n",
       "      <td>0.521</td>\n",
       "    </tr>\n",
       "    <tr>\n",
       "      <th>1</th>\n",
       "      <td>15</td>\n",
       "      <td>25</td>\n",
       "      <td>0</td>\n",
       "      <td>93</td>\n",
       "      <td>0</td>\n",
       "      <td>41.98</td>\n",
       "      <td>18048</td>\n",
       "      <td>169</td>\n",
       "      <td>380</td>\n",
       "      <td>404</td>\n",
       "      <td>41</td>\n",
       "      <td>KC SANGAKKARA</td>\n",
       "      <td>SL</td>\n",
       "      <td>14234</td>\n",
       "      <td>78.86</td>\n",
       "      <td>2000-2015</td>\n",
       "      <td>odi</td>\n",
       "      <td>0.176</td>\n",
       "      <td>0.653</td>\n",
       "    </tr>\n",
       "    <tr>\n",
       "      <th>2</th>\n",
       "      <td>20</td>\n",
       "      <td>30</td>\n",
       "      <td>0</td>\n",
       "      <td>82</td>\n",
       "      <td>0</td>\n",
       "      <td>42.03</td>\n",
       "      <td>17046</td>\n",
       "      <td>164</td>\n",
       "      <td>365</td>\n",
       "      <td>375</td>\n",
       "      <td>39</td>\n",
       "      <td>RT PONTING</td>\n",
       "      <td>AUS</td>\n",
       "      <td>13704</td>\n",
       "      <td>80.39</td>\n",
       "      <td>1995-2012</td>\n",
       "      <td>odi</td>\n",
       "      <td>0.219</td>\n",
       "      <td>0.598</td>\n",
       "    </tr>\n",
       "    <tr>\n",
       "      <th>3</th>\n",
       "      <td>34</td>\n",
       "      <td>28</td>\n",
       "      <td>0</td>\n",
       "      <td>68</td>\n",
       "      <td>0</td>\n",
       "      <td>32.36</td>\n",
       "      <td>14725</td>\n",
       "      <td>189</td>\n",
       "      <td>433</td>\n",
       "      <td>445</td>\n",
       "      <td>18</td>\n",
       "      <td>ST JAYASURIYA</td>\n",
       "      <td>SL</td>\n",
       "      <td>13430</td>\n",
       "      <td>91.20</td>\n",
       "      <td>1989-2011</td>\n",
       "      <td>odi</td>\n",
       "      <td>0.208</td>\n",
       "      <td>0.506</td>\n",
       "    </tr>\n",
       "    <tr>\n",
       "      <th>4</th>\n",
       "      <td>28</td>\n",
       "      <td>19</td>\n",
       "      <td>0</td>\n",
       "      <td>77</td>\n",
       "      <td>0</td>\n",
       "      <td>33.37</td>\n",
       "      <td>16020</td>\n",
       "      <td>144</td>\n",
       "      <td>418</td>\n",
       "      <td>448</td>\n",
       "      <td>39</td>\n",
       "      <td>DPMD JAYAWARDENE</td>\n",
       "      <td>SL</td>\n",
       "      <td>12650</td>\n",
       "      <td>78.96</td>\n",
       "      <td>1998-2015</td>\n",
       "      <td>odi</td>\n",
       "      <td>0.150</td>\n",
       "      <td>0.609</td>\n",
       "    </tr>\n",
       "    <tr>\n",
       "      <th>...</th>\n",
       "      <td>...</td>\n",
       "      <td>...</td>\n",
       "      <td>...</td>\n",
       "      <td>...</td>\n",
       "      <td>...</td>\n",
       "      <td>...</td>\n",
       "      <td>...</td>\n",
       "      <td>...</td>\n",
       "      <td>...</td>\n",
       "      <td>...</td>\n",
       "      <td>...</td>\n",
       "      <td>...</td>\n",
       "      <td>...</td>\n",
       "      <td>...</td>\n",
       "      <td>...</td>\n",
       "      <td>...</td>\n",
       "      <td>...</td>\n",
       "      <td>...</td>\n",
       "      <td>...</td>\n",
       "    </tr>\n",
       "    <tr>\n",
       "      <th>2996</th>\n",
       "      <td>0</td>\n",
       "      <td>0</td>\n",
       "      <td>0</td>\n",
       "      <td>0</td>\n",
       "      <td>0</td>\n",
       "      <td>0.00</td>\n",
       "      <td>0</td>\n",
       "      <td>0</td>\n",
       "      <td>0</td>\n",
       "      <td>1</td>\n",
       "      <td>0</td>\n",
       "      <td>CA SNEDDEN</td>\n",
       "      <td>NZ</td>\n",
       "      <td>0</td>\n",
       "      <td>0.00</td>\n",
       "      <td>1947-1947</td>\n",
       "      <td>test</td>\n",
       "      <td>0.000</td>\n",
       "      <td>0.000</td>\n",
       "    </tr>\n",
       "    <tr>\n",
       "      <th>2997</th>\n",
       "      <td>0</td>\n",
       "      <td>0</td>\n",
       "      <td>0</td>\n",
       "      <td>0</td>\n",
       "      <td>0</td>\n",
       "      <td>0.00</td>\n",
       "      <td>0</td>\n",
       "      <td>0</td>\n",
       "      <td>0</td>\n",
       "      <td>1</td>\n",
       "      <td>0</td>\n",
       "      <td>VN SWAMY</td>\n",
       "      <td>INDIA</td>\n",
       "      <td>0</td>\n",
       "      <td>0.00</td>\n",
       "      <td>1955-1955</td>\n",
       "      <td>test</td>\n",
       "      <td>0.000</td>\n",
       "      <td>0.000</td>\n",
       "    </tr>\n",
       "    <tr>\n",
       "      <th>2998</th>\n",
       "      <td>0</td>\n",
       "      <td>0</td>\n",
       "      <td>0</td>\n",
       "      <td>0</td>\n",
       "      <td>0</td>\n",
       "      <td>0.00</td>\n",
       "      <td>0</td>\n",
       "      <td>0</td>\n",
       "      <td>0</td>\n",
       "      <td>1</td>\n",
       "      <td>0</td>\n",
       "      <td>USMAN SHINWARI</td>\n",
       "      <td>PAK</td>\n",
       "      <td>0</td>\n",
       "      <td>0.00</td>\n",
       "      <td>2019-2019</td>\n",
       "      <td>test</td>\n",
       "      <td>0.000</td>\n",
       "      <td>0.000</td>\n",
       "    </tr>\n",
       "    <tr>\n",
       "      <th>2999</th>\n",
       "      <td>0</td>\n",
       "      <td>0</td>\n",
       "      <td>0</td>\n",
       "      <td>0</td>\n",
       "      <td>0</td>\n",
       "      <td>0.00</td>\n",
       "      <td>0</td>\n",
       "      <td>0</td>\n",
       "      <td>0</td>\n",
       "      <td>2</td>\n",
       "      <td>0</td>\n",
       "      <td>CM WILLOUGHBY</td>\n",
       "      <td>SA</td>\n",
       "      <td>0</td>\n",
       "      <td>0.00</td>\n",
       "      <td>2003-2003</td>\n",
       "      <td>test</td>\n",
       "      <td>0.000</td>\n",
       "      <td>0.000</td>\n",
       "    </tr>\n",
       "    <tr>\n",
       "      <th>3000</th>\n",
       "      <td>0</td>\n",
       "      <td>0</td>\n",
       "      <td>0</td>\n",
       "      <td>0</td>\n",
       "      <td>0</td>\n",
       "      <td>0.00</td>\n",
       "      <td>0</td>\n",
       "      <td>0</td>\n",
       "      <td>0</td>\n",
       "      <td>1</td>\n",
       "      <td>0</td>\n",
       "      <td>JW WILSON</td>\n",
       "      <td>AUS</td>\n",
       "      <td>0</td>\n",
       "      <td>0.00</td>\n",
       "      <td>1956-1956</td>\n",
       "      <td>test</td>\n",
       "      <td>0.000</td>\n",
       "      <td>0.000</td>\n",
       "    </tr>\n",
       "  </tbody>\n",
       "</table>\n",
       "<p>7507 rows × 19 columns</p>\n",
       "</div>"
      ],
      "text/plain": [
       "       0  100  4s  50  6s    Ave     BF   HS  Inns  Mat  NO            Player  \\\n",
       "0     20   49   0  96   0  44.83  21367  200   452  463  41      SR TENDULKAR   \n",
       "1     15   25   0  93   0  41.98  18048  169   380  404  41     KC SANGAKKARA   \n",
       "2     20   30   0  82   0  42.03  17046  164   365  375  39        RT PONTING   \n",
       "3     34   28   0  68   0  32.36  14725  189   433  445  18     ST JAYASURIYA   \n",
       "4     28   19   0  77   0  33.37  16020  144   418  448  39  DPMD JAYAWARDENE   \n",
       "...   ..  ...  ..  ..  ..    ...    ...  ...   ...  ...  ..               ...   \n",
       "2996   0    0   0   0   0   0.00      0    0     0    1   0        CA SNEDDEN   \n",
       "2997   0    0   0   0   0   0.00      0    0     0    1   0          VN SWAMY   \n",
       "2998   0    0   0   0   0   0.00      0    0     0    1   0    USMAN SHINWARI   \n",
       "2999   0    0   0   0   0   0.00      0    0     0    2   0     CM WILLOUGHBY   \n",
       "3000   0    0   0   0   0   0.00      0    0     0    1   0         JW WILSON   \n",
       "\n",
       "     Region   Runs     SR       Span match_type  Percentage of 100  \\\n",
       "0     INDIA  18426  86.23  1989-2012        odi              0.266   \n",
       "1        SL  14234  78.86  2000-2015        odi              0.176   \n",
       "2       AUS  13704  80.39  1995-2012        odi              0.219   \n",
       "3        SL  13430  91.20  1989-2011        odi              0.208   \n",
       "4        SL  12650  78.96  1998-2015        odi              0.150   \n",
       "...     ...    ...    ...        ...        ...                ...   \n",
       "2996     NZ      0   0.00  1947-1947       test              0.000   \n",
       "2997  INDIA      0   0.00  1955-1955       test              0.000   \n",
       "2998    PAK      0   0.00  2019-2019       test              0.000   \n",
       "2999     SA      0   0.00  2003-2003       test              0.000   \n",
       "3000    AUS      0   0.00  1956-1956       test              0.000   \n",
       "\n",
       "      Percentage of 50  \n",
       "0                0.521  \n",
       "1                0.653  \n",
       "2                0.598  \n",
       "3                0.506  \n",
       "4                0.609  \n",
       "...                ...  \n",
       "2996             0.000  \n",
       "2997             0.000  \n",
       "2998             0.000  \n",
       "2999             0.000  \n",
       "3000             0.000  \n",
       "\n",
       "[7507 rows x 19 columns]"
      ]
     },
     "execution_count": 83,
     "metadata": {},
     "output_type": "execute_result"
    }
   ],
   "source": [
    "batters_data"
   ]
  },
  {
   "cell_type": "code",
   "execution_count": 96,
   "metadata": {},
   "outputs": [],
   "source": [
    "x = fielders_data.Span.apply(lambda x : int(x.split('-')[0]))"
   ]
  },
  {
   "cell_type": "code",
   "execution_count": 97,
   "metadata": {},
   "outputs": [
    {
     "data": {
      "text/plain": [
       "1877"
      ]
     },
     "execution_count": 97,
     "metadata": {},
     "output_type": "execute_result"
    }
   ],
   "source": [
    "x.min()"
   ]
  },
  {
   "cell_type": "code",
   "execution_count": 98,
   "metadata": {},
   "outputs": [
    {
     "data": {
      "text/plain": [
       "2019"
      ]
     },
     "execution_count": 98,
     "metadata": {},
     "output_type": "execute_result"
    }
   ],
   "source": [
    "x.max()"
   ]
  },
  {
   "cell_type": "code",
   "execution_count": 99,
   "metadata": {},
   "outputs": [],
   "source": [
    "x = batters_data.Span.apply(lambda x : int(x.split('-')[0]))"
   ]
  },
  {
   "cell_type": "code",
   "execution_count": 100,
   "metadata": {},
   "outputs": [
    {
     "data": {
      "text/plain": [
       "1877"
      ]
     },
     "execution_count": 100,
     "metadata": {},
     "output_type": "execute_result"
    }
   ],
   "source": [
    "x.min()"
   ]
  },
  {
   "cell_type": "code",
   "execution_count": 101,
   "metadata": {},
   "outputs": [
    {
     "data": {
      "text/plain": [
       "2019"
      ]
     },
     "execution_count": 101,
     "metadata": {},
     "output_type": "execute_result"
    }
   ],
   "source": [
    "x.max()"
   ]
  },
  {
   "cell_type": "code",
   "execution_count": 105,
   "metadata": {},
   "outputs": [],
   "source": [
    "x = ballers_data.Span.apply(lambda x : int(x.split('-')[0]))"
   ]
  },
  {
   "cell_type": "code",
   "execution_count": 106,
   "metadata": {},
   "outputs": [
    {
     "data": {
      "text/plain": [
       "1951"
      ]
     },
     "execution_count": 106,
     "metadata": {},
     "output_type": "execute_result"
    }
   ],
   "source": [
    "x.min()"
   ]
  },
  {
   "cell_type": "code",
   "execution_count": 108,
   "metadata": {},
   "outputs": [
    {
     "data": {
      "text/plain": [
       "2019"
      ]
     },
     "execution_count": 108,
     "metadata": {},
     "output_type": "execute_result"
    }
   ],
   "source": [
    "x.max()"
   ]
  },
  {
   "cell_type": "code",
   "execution_count": null,
   "metadata": {},
   "outputs": [],
   "source": []
  },
  {
   "cell_type": "code",
   "execution_count": null,
   "metadata": {},
   "outputs": [],
   "source": []
  }
 ],
 "metadata": {
  "kernelspec": {
   "display_name": "Python 3",
   "language": "python",
   "name": "python3"
  },
  "language_info": {
   "codemirror_mode": {
    "name": "ipython",
    "version": 3
   },
   "file_extension": ".py",
   "mimetype": "text/x-python",
   "name": "python",
   "nbconvert_exporter": "python",
   "pygments_lexer": "ipython3",
   "version": "3.7.0"
  }
 },
 "nbformat": 4,
 "nbformat_minor": 2
}
